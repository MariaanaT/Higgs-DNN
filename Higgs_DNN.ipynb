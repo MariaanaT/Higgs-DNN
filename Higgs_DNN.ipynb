{
  "nbformat": 4,
  "nbformat_minor": 0,
  "metadata": {
    "kernelspec": {
      "display_name": "Python 3",
      "language": "python",
      "name": "python3"
    },
    "language_info": {
      "codemirror_mode": {
        "name": "ipython",
        "version": 3
      },
      "file_extension": ".py",
      "mimetype": "text/x-python",
      "name": "python",
      "nbconvert_exporter": "python",
      "pygments_lexer": "ipython3",
      "version": "3.8.5"
    },
    "colab": {
      "name": "Copy of Higgs_DNN.ipynb",
      "provenance": [],
      "collapsed_sections": [],
      "include_colab_link": true
    },
    "accelerator": "GPU"
  },
  "cells": [
    {
      "cell_type": "markdown",
      "metadata": {
        "id": "view-in-github",
        "colab_type": "text"
      },
      "source": [
        "<a href=\"https://colab.research.google.com/github/MariaanaT/Higgs-DNN/blob/master/Higgs_DNN.ipynb\" target=\"_parent\"><img src=\"https://colab.research.google.com/assets/colab-badge.svg\" alt=\"Open In Colab\"/></a>"
      ]
    },
    {
      "cell_type": "markdown",
      "metadata": {
        "id": "Gg0Bk--mXQzM"
      },
      "source": [
        "# Searching Higgs boson with deep neural network\n",
        "\n",
        "This work aims to replicate work presented in the article *Baldi, P., P. Sadowski, and D. Whiteson. “[Searching for Exotic Particles in High-energy Physics with Deep Learning.](https://arxiv.org/pdf/1402.4735.pdf)” Nature Communications 5 (July 2, 2014).* \n",
        "\n",
        "The abstract of the article states that \"*Collisions at high-energy particle colliders are a traditionally fruitful source of exotic particle discoveries. Finding these rare particles requires solving difficult signal-versus-background classification problems, hence machine learning approaches are often used. [...] Using benchmark datasets, we show that deep learning methods need no manually constructed inputs and yet improve the classification metric by as much as 8% over the best current approaches. This demonstrates that deep learning approaches can improve the power of collider searches for exotic particles.*\"\n",
        "\n",
        "In this notebook, **deep** neural network is trained and evaluated. See the other notebook to compare the model behavior to **shallow** neural network. \n",
        "\n",
        "The dataset used in the original article, and used in this work as well, can be downloaded from [UCI Machine Learning Repository](https://archive.ics.uci.edu/ml/datasets/HIGGS). Dataset description can be found from the article. The work desctibed in the article uses Pylearn2 to train neural networks, but Tensorflow and Keras are used in this work. See also [code in GitHub](https://github.com/uci-igb/higgs-susy) used in the original article. \n",
        "\n"
      ]
    },
    {
      "cell_type": "markdown",
      "metadata": {
        "id": "ghQJ6xMZeY5H"
      },
      "source": [
        "### Load packages and the dataset\n",
        "\n",
        "Load packages "
      ]
    },
    {
      "cell_type": "code",
      "metadata": {
        "id": "iME9j5MwXQzg"
      },
      "source": [
        "import numpy as np\n",
        "import pandas as pd\n",
        "from keras.models import Sequential\n",
        "from keras.layers import Dense\n",
        "#from keras.optimizers import Adam\n",
        "from keras.optimizers import Nadam\n",
        "\n",
        "from sklearn.preprocessing import StandardScaler, MinMaxScaler\n",
        "from sklearn.metrics import roc_curve,roc_auc_score\n",
        "import matplotlib.pyplot as plt\n",
        "import matplotlib.pyplot as plt"
      ],
      "execution_count": 1,
      "outputs": []
    },
    {
      "cell_type": "markdown",
      "metadata": {
        "id": "6CEgyU1b0-Ih"
      },
      "source": [
        "Set some constants. \n",
        "\n",
        "The original article used 2.6 million datapoints for training and testing, and 100000 datapoints for validation. We will use more training data as the dataset contains 11 million datapoints. "
      ]
    },
    {
      "cell_type": "code",
      "metadata": {
        "id": "gl0LBM_01INe"
      },
      "source": [
        "dataRowsTraining = 5000000\n",
        "dataRowsValidation = 1000000\n",
        "nrows = dataRowsTraining + dataRowsValidation"
      ],
      "execution_count": 2,
      "outputs": []
    },
    {
      "cell_type": "markdown",
      "metadata": {
        "id": "ATmXuCmeeDhO"
      },
      "source": [
        "#### Load the dataset \n",
        "\n",
        "Get dataset from Google Drive. Needed only when working with Google Colab. "
      ]
    },
    {
      "cell_type": "code",
      "metadata": {
        "colab": {
          "base_uri": "https://localhost:8080/"
        },
        "id": "nv9F1Q0sZvPe",
        "outputId": "dd9a894b-cdc8-4129-a992-82d7d936c1a6"
      },
      "source": [
        "from google.colab import drive\n",
        "drive.mount('/content/drive')"
      ],
      "execution_count": 4,
      "outputs": [
        {
          "output_type": "stream",
          "text": [
            "Mounted at /content/drive\n"
          ],
          "name": "stdout"
        }
      ]
    },
    {
      "cell_type": "markdown",
      "metadata": {
        "id": "VF37D5XcXQzk"
      },
      "source": [
        "We need only the class label and low level features, that is, columns 1-22. High level features which have been derived from low level features, are in columns 23-29 and are left out.\n",
        "\n",
        "In total, dataset contains 11 million datapoints, created simulating 8 TeV collisions of protons in the  Large  Hadron Collider. Positive examples consist 53 % of the dataset.  "
      ]
    },
    {
      "cell_type": "code",
      "metadata": {
        "id": "NdMzjWZVXQzm"
      },
      "source": [
        "#path = 'HIGGS.csv.gz' #link in own computer\n",
        "path = '/content/drive/My Drive/datasets/HIGGS.csv.gz' #link in Google Drive\n",
        "dataset = pd.read_csv(path, \n",
        "                      compression='gzip', \n",
        "                      usecols = list(range(0,22)), \n",
        "                      nrows = nrows,\n",
        "                      header = None)"
      ],
      "execution_count": 5,
      "outputs": []
    },
    {
      "cell_type": "markdown",
      "metadata": {
        "id": "nPhxVMUdXQzp"
      },
      "source": [
        "Print the firs few roads to make sure loading was done correctly. "
      ]
    },
    {
      "cell_type": "code",
      "metadata": {
        "id": "bnpt2YHaXQzq",
        "colab": {
          "base_uri": "https://localhost:8080/",
          "height": 226
        },
        "outputId": "eefccc11-098e-41e8-e21e-40f142852060"
      },
      "source": [
        "dataset.head()"
      ],
      "execution_count": 6,
      "outputs": [
        {
          "output_type": "execute_result",
          "data": {
            "text/html": [
              "<div>\n",
              "<style scoped>\n",
              "    .dataframe tbody tr th:only-of-type {\n",
              "        vertical-align: middle;\n",
              "    }\n",
              "\n",
              "    .dataframe tbody tr th {\n",
              "        vertical-align: top;\n",
              "    }\n",
              "\n",
              "    .dataframe thead th {\n",
              "        text-align: right;\n",
              "    }\n",
              "</style>\n",
              "<table border=\"1\" class=\"dataframe\">\n",
              "  <thead>\n",
              "    <tr style=\"text-align: right;\">\n",
              "      <th></th>\n",
              "      <th>0</th>\n",
              "      <th>1</th>\n",
              "      <th>2</th>\n",
              "      <th>3</th>\n",
              "      <th>4</th>\n",
              "      <th>5</th>\n",
              "      <th>6</th>\n",
              "      <th>7</th>\n",
              "      <th>8</th>\n",
              "      <th>9</th>\n",
              "      <th>10</th>\n",
              "      <th>11</th>\n",
              "      <th>12</th>\n",
              "      <th>13</th>\n",
              "      <th>14</th>\n",
              "      <th>15</th>\n",
              "      <th>16</th>\n",
              "      <th>17</th>\n",
              "      <th>18</th>\n",
              "      <th>19</th>\n",
              "      <th>20</th>\n",
              "      <th>21</th>\n",
              "    </tr>\n",
              "  </thead>\n",
              "  <tbody>\n",
              "    <tr>\n",
              "      <th>0</th>\n",
              "      <td>1.0</td>\n",
              "      <td>0.869293</td>\n",
              "      <td>-0.635082</td>\n",
              "      <td>0.225690</td>\n",
              "      <td>0.327470</td>\n",
              "      <td>-0.689993</td>\n",
              "      <td>0.754202</td>\n",
              "      <td>-0.248573</td>\n",
              "      <td>-1.092064</td>\n",
              "      <td>0.000000</td>\n",
              "      <td>1.374992</td>\n",
              "      <td>-0.653674</td>\n",
              "      <td>0.930349</td>\n",
              "      <td>1.107436</td>\n",
              "      <td>1.138904</td>\n",
              "      <td>-1.578198</td>\n",
              "      <td>-1.046985</td>\n",
              "      <td>0.000000</td>\n",
              "      <td>0.657930</td>\n",
              "      <td>-0.010455</td>\n",
              "      <td>-0.045767</td>\n",
              "      <td>3.101961</td>\n",
              "    </tr>\n",
              "    <tr>\n",
              "      <th>1</th>\n",
              "      <td>1.0</td>\n",
              "      <td>0.907542</td>\n",
              "      <td>0.329147</td>\n",
              "      <td>0.359412</td>\n",
              "      <td>1.497970</td>\n",
              "      <td>-0.313010</td>\n",
              "      <td>1.095531</td>\n",
              "      <td>-0.557525</td>\n",
              "      <td>-1.588230</td>\n",
              "      <td>2.173076</td>\n",
              "      <td>0.812581</td>\n",
              "      <td>-0.213642</td>\n",
              "      <td>1.271015</td>\n",
              "      <td>2.214872</td>\n",
              "      <td>0.499994</td>\n",
              "      <td>-1.261432</td>\n",
              "      <td>0.732156</td>\n",
              "      <td>0.000000</td>\n",
              "      <td>0.398701</td>\n",
              "      <td>-1.138930</td>\n",
              "      <td>-0.000819</td>\n",
              "      <td>0.000000</td>\n",
              "    </tr>\n",
              "    <tr>\n",
              "      <th>2</th>\n",
              "      <td>1.0</td>\n",
              "      <td>0.798835</td>\n",
              "      <td>1.470639</td>\n",
              "      <td>-1.635975</td>\n",
              "      <td>0.453773</td>\n",
              "      <td>0.425629</td>\n",
              "      <td>1.104875</td>\n",
              "      <td>1.282322</td>\n",
              "      <td>1.381664</td>\n",
              "      <td>0.000000</td>\n",
              "      <td>0.851737</td>\n",
              "      <td>1.540659</td>\n",
              "      <td>-0.819690</td>\n",
              "      <td>2.214872</td>\n",
              "      <td>0.993490</td>\n",
              "      <td>0.356080</td>\n",
              "      <td>-0.208778</td>\n",
              "      <td>2.548224</td>\n",
              "      <td>1.256955</td>\n",
              "      <td>1.128848</td>\n",
              "      <td>0.900461</td>\n",
              "      <td>0.000000</td>\n",
              "    </tr>\n",
              "    <tr>\n",
              "      <th>3</th>\n",
              "      <td>0.0</td>\n",
              "      <td>1.344385</td>\n",
              "      <td>-0.876626</td>\n",
              "      <td>0.935913</td>\n",
              "      <td>1.992050</td>\n",
              "      <td>0.882454</td>\n",
              "      <td>1.786066</td>\n",
              "      <td>-1.646778</td>\n",
              "      <td>-0.942383</td>\n",
              "      <td>0.000000</td>\n",
              "      <td>2.423265</td>\n",
              "      <td>-0.676016</td>\n",
              "      <td>0.736159</td>\n",
              "      <td>2.214872</td>\n",
              "      <td>1.298720</td>\n",
              "      <td>-1.430738</td>\n",
              "      <td>-0.364658</td>\n",
              "      <td>0.000000</td>\n",
              "      <td>0.745313</td>\n",
              "      <td>-0.678379</td>\n",
              "      <td>-1.360356</td>\n",
              "      <td>0.000000</td>\n",
              "    </tr>\n",
              "    <tr>\n",
              "      <th>4</th>\n",
              "      <td>1.0</td>\n",
              "      <td>1.105009</td>\n",
              "      <td>0.321356</td>\n",
              "      <td>1.522401</td>\n",
              "      <td>0.882808</td>\n",
              "      <td>-1.205349</td>\n",
              "      <td>0.681466</td>\n",
              "      <td>-1.070464</td>\n",
              "      <td>-0.921871</td>\n",
              "      <td>0.000000</td>\n",
              "      <td>0.800872</td>\n",
              "      <td>1.020974</td>\n",
              "      <td>0.971407</td>\n",
              "      <td>2.214872</td>\n",
              "      <td>0.596761</td>\n",
              "      <td>-0.350273</td>\n",
              "      <td>0.631194</td>\n",
              "      <td>0.000000</td>\n",
              "      <td>0.479999</td>\n",
              "      <td>-0.373566</td>\n",
              "      <td>0.113041</td>\n",
              "      <td>0.000000</td>\n",
              "    </tr>\n",
              "  </tbody>\n",
              "</table>\n",
              "</div>"
            ],
            "text/plain": [
              "    0         1         2         3   ...        18        19        20        21\n",
              "0  1.0  0.869293 -0.635082  0.225690  ...  0.657930 -0.010455 -0.045767  3.101961\n",
              "1  1.0  0.907542  0.329147  0.359412  ...  0.398701 -1.138930 -0.000819  0.000000\n",
              "2  1.0  0.798835  1.470639 -1.635975  ...  1.256955  1.128848  0.900461  0.000000\n",
              "3  0.0  1.344385 -0.876626  0.935913  ...  0.745313 -0.678379 -1.360356  0.000000\n",
              "4  1.0  1.105009  0.321356  1.522401  ...  0.479999 -0.373566  0.113041  0.000000\n",
              "\n",
              "[5 rows x 22 columns]"
            ]
          },
          "metadata": {
            "tags": []
          },
          "execution_count": 6
        }
      ]
    },
    {
      "cell_type": "markdown",
      "metadata": {
        "id": "aWUnkiNXXQzu"
      },
      "source": [
        "Rename columns to be more descriptive. "
      ]
    },
    {
      "cell_type": "code",
      "metadata": {
        "id": "i26BMMjIXQzv"
      },
      "source": [
        "dataset.columns = ['class label', 'lepton pT', 'lepton eta', 'lepton phi', \n",
        "                   'missing energy magnitude', 'missing energy phi',\n",
        "                   'jet 1 pt', 'jet 1 eta', 'jet 1 phi', 'jet 1 b-tag', \n",
        "                   'jet 2 pt', 'jet 2 eta', 'jet 2 phi', 'jet 2 b-tag', \n",
        "                   'jet 3 pt', 'jet 3 eta', 'jet 3 phi', 'jet 3 b-tag', \n",
        "                   'jet 4 pt', 'jet 4 eta', 'jet 4 phi', 'jet 4 b-tag']"
      ],
      "execution_count": 7,
      "outputs": []
    },
    {
      "cell_type": "markdown",
      "metadata": {
        "id": "chhKeYHdXQzz"
      },
      "source": [
        "#### Summarize the dataset \n",
        "\n",
        "Print summary of the dataset. "
      ]
    },
    {
      "cell_type": "code",
      "metadata": {
        "id": "UtnAQCdaXQz2",
        "colab": {
          "base_uri": "https://localhost:8080/",
          "height": 355
        },
        "outputId": "15a9b428-4ec0-420e-b8fe-a89dce609db2"
      },
      "source": [
        "dataset.describe()"
      ],
      "execution_count": 8,
      "outputs": [
        {
          "output_type": "execute_result",
          "data": {
            "text/html": [
              "<div>\n",
              "<style scoped>\n",
              "    .dataframe tbody tr th:only-of-type {\n",
              "        vertical-align: middle;\n",
              "    }\n",
              "\n",
              "    .dataframe tbody tr th {\n",
              "        vertical-align: top;\n",
              "    }\n",
              "\n",
              "    .dataframe thead th {\n",
              "        text-align: right;\n",
              "    }\n",
              "</style>\n",
              "<table border=\"1\" class=\"dataframe\">\n",
              "  <thead>\n",
              "    <tr style=\"text-align: right;\">\n",
              "      <th></th>\n",
              "      <th>class label</th>\n",
              "      <th>lepton pT</th>\n",
              "      <th>lepton eta</th>\n",
              "      <th>lepton phi</th>\n",
              "      <th>missing energy magnitude</th>\n",
              "      <th>missing energy phi</th>\n",
              "      <th>jet 1 pt</th>\n",
              "      <th>jet 1 eta</th>\n",
              "      <th>jet 1 phi</th>\n",
              "      <th>jet 1 b-tag</th>\n",
              "      <th>jet 2 pt</th>\n",
              "      <th>jet 2 eta</th>\n",
              "      <th>jet 2 phi</th>\n",
              "      <th>jet 2 b-tag</th>\n",
              "      <th>jet 3 pt</th>\n",
              "      <th>jet 3 eta</th>\n",
              "      <th>jet 3 phi</th>\n",
              "      <th>jet 3 b-tag</th>\n",
              "      <th>jet 4 pt</th>\n",
              "      <th>jet 4 eta</th>\n",
              "      <th>jet 4 phi</th>\n",
              "      <th>jet 4 b-tag</th>\n",
              "    </tr>\n",
              "  </thead>\n",
              "  <tbody>\n",
              "    <tr>\n",
              "      <th>count</th>\n",
              "      <td>6.000000e+06</td>\n",
              "      <td>6.000000e+06</td>\n",
              "      <td>6.000000e+06</td>\n",
              "      <td>6.000000e+06</td>\n",
              "      <td>6.000000e+06</td>\n",
              "      <td>6.000000e+06</td>\n",
              "      <td>6.000000e+06</td>\n",
              "      <td>6.000000e+06</td>\n",
              "      <td>6.000000e+06</td>\n",
              "      <td>6.000000e+06</td>\n",
              "      <td>6.000000e+06</td>\n",
              "      <td>6.000000e+06</td>\n",
              "      <td>6.000000e+06</td>\n",
              "      <td>6.000000e+06</td>\n",
              "      <td>6.000000e+06</td>\n",
              "      <td>6.000000e+06</td>\n",
              "      <td>6.000000e+06</td>\n",
              "      <td>6.000000e+06</td>\n",
              "      <td>6.000000e+06</td>\n",
              "      <td>6.000000e+06</td>\n",
              "      <td>6.000000e+06</td>\n",
              "      <td>6.000000e+06</td>\n",
              "    </tr>\n",
              "    <tr>\n",
              "      <th>mean</th>\n",
              "      <td>5.297242e-01</td>\n",
              "      <td>9.911388e-01</td>\n",
              "      <td>-6.317132e-06</td>\n",
              "      <td>3.633206e-04</td>\n",
              "      <td>9.981901e-01</td>\n",
              "      <td>3.190455e-05</td>\n",
              "      <td>9.908860e-01</td>\n",
              "      <td>-5.361822e-04</td>\n",
              "      <td>-8.940377e-05</td>\n",
              "      <td>1.000497e+00</td>\n",
              "      <td>9.924728e-01</td>\n",
              "      <td>3.722284e-04</td>\n",
              "      <td>-2.034389e-04</td>\n",
              "      <td>9.994989e-01</td>\n",
              "      <td>9.921424e-01</td>\n",
              "      <td>1.281615e-04</td>\n",
              "      <td>-2.103781e-04</td>\n",
              "      <td>1.000315e+00</td>\n",
              "      <td>9.859461e-01</td>\n",
              "      <td>5.495551e-05</td>\n",
              "      <td>1.010016e-05</td>\n",
              "      <td>9.995073e-01</td>\n",
              "    </tr>\n",
              "    <tr>\n",
              "      <th>std</th>\n",
              "      <td>4.991157e-01</td>\n",
              "      <td>5.648960e-01</td>\n",
              "      <td>1.008915e+00</td>\n",
              "      <td>1.006282e+00</td>\n",
              "      <td>5.999452e-01</td>\n",
              "      <td>1.006247e+00</td>\n",
              "      <td>4.750803e-01</td>\n",
              "      <td>1.009190e+00</td>\n",
              "      <td>1.005880e+00</td>\n",
              "      <td>1.027797e+00</td>\n",
              "      <td>5.000136e-01</td>\n",
              "      <td>1.009539e+00</td>\n",
              "      <td>1.006107e+00</td>\n",
              "      <td>1.049401e+00</td>\n",
              "      <td>4.874518e-01</td>\n",
              "      <td>1.008500e+00</td>\n",
              "      <td>1.006410e+00</td>\n",
              "      <td>1.193803e+00</td>\n",
              "      <td>5.058094e-01</td>\n",
              "      <td>1.007736e+00</td>\n",
              "      <td>1.006360e+00</td>\n",
              "      <td>1.400049e+00</td>\n",
              "    </tr>\n",
              "    <tr>\n",
              "      <th>min</th>\n",
              "      <td>0.000000e+00</td>\n",
              "      <td>2.746966e-01</td>\n",
              "      <td>-2.434976e+00</td>\n",
              "      <td>-1.742508e+00</td>\n",
              "      <td>3.943779e-04</td>\n",
              "      <td>-1.743944e+00</td>\n",
              "      <td>1.376856e-01</td>\n",
              "      <td>-2.969725e+00</td>\n",
              "      <td>-1.741237e+00</td>\n",
              "      <td>0.000000e+00</td>\n",
              "      <td>1.889811e-01</td>\n",
              "      <td>-2.913090e+00</td>\n",
              "      <td>-1.742372e+00</td>\n",
              "      <td>0.000000e+00</td>\n",
              "      <td>2.636076e-01</td>\n",
              "      <td>-2.729663e+00</td>\n",
              "      <td>-1.742069e+00</td>\n",
              "      <td>0.000000e+00</td>\n",
              "      <td>3.653542e-01</td>\n",
              "      <td>-2.497265e+00</td>\n",
              "      <td>-1.742691e+00</td>\n",
              "      <td>0.000000e+00</td>\n",
              "    </tr>\n",
              "    <tr>\n",
              "      <th>25%</th>\n",
              "      <td>0.000000e+00</td>\n",
              "      <td>5.903873e-01</td>\n",
              "      <td>-7.392965e-01</td>\n",
              "      <td>-8.713760e-01</td>\n",
              "      <td>5.765905e-01</td>\n",
              "      <td>-8.711470e-01</td>\n",
              "      <td>6.789927e-01</td>\n",
              "      <td>-6.872450e-01</td>\n",
              "      <td>-8.680962e-01</td>\n",
              "      <td>0.000000e+00</td>\n",
              "      <td>6.563349e-01</td>\n",
              "      <td>-6.944718e-01</td>\n",
              "      <td>-8.701791e-01</td>\n",
              "      <td>0.000000e+00</td>\n",
              "      <td>6.508527e-01</td>\n",
              "      <td>-6.988981e-01</td>\n",
              "      <td>-8.716891e-01</td>\n",
              "      <td>0.000000e+00</td>\n",
              "      <td>6.172805e-01</td>\n",
              "      <td>-7.133574e-01</td>\n",
              "      <td>-8.720338e-01</td>\n",
              "      <td>0.000000e+00</td>\n",
              "    </tr>\n",
              "    <tr>\n",
              "      <th>50%</th>\n",
              "      <td>1.000000e+00</td>\n",
              "      <td>8.531884e-01</td>\n",
              "      <td>9.198132e-04</td>\n",
              "      <td>9.714414e-04</td>\n",
              "      <td>8.913502e-01</td>\n",
              "      <td>3.782700e-04</td>\n",
              "      <td>8.946361e-01</td>\n",
              "      <td>-1.015666e-03</td>\n",
              "      <td>-4.961938e-04</td>\n",
              "      <td>1.086538e+00</td>\n",
              "      <td>8.898859e-01</td>\n",
              "      <td>6.027267e-05</td>\n",
              "      <td>-2.032892e-04</td>\n",
              "      <td>0.000000e+00</td>\n",
              "      <td>8.972494e-01</td>\n",
              "      <td>1.728937e-04</td>\n",
              "      <td>-1.972152e-04</td>\n",
              "      <td>0.000000e+00</td>\n",
              "      <td>8.679899e-01</td>\n",
              "      <td>3.721330e-04</td>\n",
              "      <td>-2.642369e-04</td>\n",
              "      <td>0.000000e+00</td>\n",
              "    </tr>\n",
              "    <tr>\n",
              "      <th>75%</th>\n",
              "      <td>1.000000e+00</td>\n",
              "      <td>1.236043e+00</td>\n",
              "      <td>7.382142e-01</td>\n",
              "      <td>8.709940e-01</td>\n",
              "      <td>1.292679e+00</td>\n",
              "      <td>8.714819e-01</td>\n",
              "      <td>1.170740e+00</td>\n",
              "      <td>6.862039e-01</td>\n",
              "      <td>8.683126e-01</td>\n",
              "      <td>2.173076e+00</td>\n",
              "      <td>1.201749e+00</td>\n",
              "      <td>6.955639e-01</td>\n",
              "      <td>8.693178e-01</td>\n",
              "      <td>2.214872e+00</td>\n",
              "      <td>1.221447e+00</td>\n",
              "      <td>7.001541e-01</td>\n",
              "      <td>8.713947e-01</td>\n",
              "      <td>2.548224e+00</td>\n",
              "      <td>1.220930e+00</td>\n",
              "      <td>7.141017e-01</td>\n",
              "      <td>8.710505e-01</td>\n",
              "      <td>3.101961e+00</td>\n",
              "    </tr>\n",
              "    <tr>\n",
              "      <th>max</th>\n",
              "      <td>1.000000e+00</td>\n",
              "      <td>1.039601e+01</td>\n",
              "      <td>2.434868e+00</td>\n",
              "      <td>1.743236e+00</td>\n",
              "      <td>1.539682e+01</td>\n",
              "      <td>1.743257e+00</td>\n",
              "      <td>8.848616e+00</td>\n",
              "      <td>2.969674e+00</td>\n",
              "      <td>1.741454e+00</td>\n",
              "      <td>2.173076e+00</td>\n",
              "      <td>1.164708e+01</td>\n",
              "      <td>2.913210e+00</td>\n",
              "      <td>1.743175e+00</td>\n",
              "      <td>2.214872e+00</td>\n",
              "      <td>1.142382e+01</td>\n",
              "      <td>2.730009e+00</td>\n",
              "      <td>1.742884e+00</td>\n",
              "      <td>2.548224e+00</td>\n",
              "      <td>1.288257e+01</td>\n",
              "      <td>2.498009e+00</td>\n",
              "      <td>1.743372e+00</td>\n",
              "      <td>3.101961e+00</td>\n",
              "    </tr>\n",
              "  </tbody>\n",
              "</table>\n",
              "</div>"
            ],
            "text/plain": [
              "        class label     lepton pT  ...     jet 4 phi   jet 4 b-tag\n",
              "count  6.000000e+06  6.000000e+06  ...  6.000000e+06  6.000000e+06\n",
              "mean   5.297242e-01  9.911388e-01  ...  1.010016e-05  9.995073e-01\n",
              "std    4.991157e-01  5.648960e-01  ...  1.006360e+00  1.400049e+00\n",
              "min    0.000000e+00  2.746966e-01  ... -1.742691e+00  0.000000e+00\n",
              "25%    0.000000e+00  5.903873e-01  ... -8.720338e-01  0.000000e+00\n",
              "50%    1.000000e+00  8.531884e-01  ... -2.642369e-04  0.000000e+00\n",
              "75%    1.000000e+00  1.236043e+00  ...  8.710505e-01  3.101961e+00\n",
              "max    1.000000e+00  1.039601e+01  ...  1.743372e+00  3.101961e+00\n",
              "\n",
              "[8 rows x 22 columns]"
            ]
          },
          "metadata": {
            "tags": []
          },
          "execution_count": 8
        }
      ]
    },
    {
      "cell_type": "markdown",
      "metadata": {
        "id": "sQ_eau4Ce_06"
      },
      "source": [
        "The original article describes the **signal and background processes** in the following way: \n",
        "\n",
        "\"*The  signal  process  is  the  fusion  of  two  gluons  into  a heavy electrically-neutral Higgs boson (gg→H$^0$), which decays to a heavy electrically-charged Higgs bosons (H$^±$) and a W boson.  The H± boson subsequently decays to a second W boson and the light Higgs boson, h$^0$ [...].  The  light  Higgs  boson  decays  predominantly to a pair of bottom quarks, giving the process*:\n",
        "\n",
        "$gg$ → H$^0$ → W$^∓$H$^±$ → W$^∓$W$^±$h$^0$ → W$^∓$W$^±$ $b \\bar b$,\n",
        "\n",
        "[...].  *The background process, which mimics W$^∓$W$^±$ $b \\bar b$ without the Higgs boson intermediate state, is the production of a pair of top quarks, each of which decay to W$b$, also giving W$^∓$W$^±$ $b \\bar b$.\"*\n",
        "\n",
        "The **low level features** in the dataset are described in the article as follows: \n",
        "\n",
        "\"*We  focus  on  the  semi-leptonic  decay  mode,  in  which one W boson decays to a lepton and neutrino (lν) and the other decays to a pair of jets (jj), giving decay products lνb jjb.   We  consider  events  which  satisfy  the  requirements:*\n",
        "- *Exactly one electron or muon, with pT > 20 GeV and |η| < 2.5;*\n",
        "- *at least four jets, each with pT > 20 GeV and |η| < 2.5;*\n",
        "- *b-tags  on  at  least  two  of  the  jets,  indicating  that they are likely due to b-quarks rather than gluons or lighter quarks.*\""
      ]
    },
    {
      "cell_type": "markdown",
      "metadata": {
        "id": "kjkbAvnJgGZR"
      },
      "source": [
        "### Get training and validation sets from the dataset \n",
        "\n",
        "#### Split input and output variables\n",
        "Split dataset into input (X) and output (y) variables. Trivially, class label is the output variable."
      ]
    },
    {
      "cell_type": "code",
      "metadata": {
        "colab": {
          "base_uri": "https://localhost:8080/",
          "height": 261
        },
        "id": "RRdkkQWCgJvW",
        "outputId": "b532ea1b-620c-446c-bad5-dbf1b3b3581b"
      },
      "source": [
        "X = dataset.iloc[:,1:23]\n",
        "y = dataset.iloc[:,0] \n",
        "X.head()"
      ],
      "execution_count": 9,
      "outputs": [
        {
          "output_type": "execute_result",
          "data": {
            "text/html": [
              "<div>\n",
              "<style scoped>\n",
              "    .dataframe tbody tr th:only-of-type {\n",
              "        vertical-align: middle;\n",
              "    }\n",
              "\n",
              "    .dataframe tbody tr th {\n",
              "        vertical-align: top;\n",
              "    }\n",
              "\n",
              "    .dataframe thead th {\n",
              "        text-align: right;\n",
              "    }\n",
              "</style>\n",
              "<table border=\"1\" class=\"dataframe\">\n",
              "  <thead>\n",
              "    <tr style=\"text-align: right;\">\n",
              "      <th></th>\n",
              "      <th>lepton pT</th>\n",
              "      <th>lepton eta</th>\n",
              "      <th>lepton phi</th>\n",
              "      <th>missing energy magnitude</th>\n",
              "      <th>missing energy phi</th>\n",
              "      <th>jet 1 pt</th>\n",
              "      <th>jet 1 eta</th>\n",
              "      <th>jet 1 phi</th>\n",
              "      <th>jet 1 b-tag</th>\n",
              "      <th>jet 2 pt</th>\n",
              "      <th>jet 2 eta</th>\n",
              "      <th>jet 2 phi</th>\n",
              "      <th>jet 2 b-tag</th>\n",
              "      <th>jet 3 pt</th>\n",
              "      <th>jet 3 eta</th>\n",
              "      <th>jet 3 phi</th>\n",
              "      <th>jet 3 b-tag</th>\n",
              "      <th>jet 4 pt</th>\n",
              "      <th>jet 4 eta</th>\n",
              "      <th>jet 4 phi</th>\n",
              "      <th>jet 4 b-tag</th>\n",
              "    </tr>\n",
              "  </thead>\n",
              "  <tbody>\n",
              "    <tr>\n",
              "      <th>0</th>\n",
              "      <td>0.869293</td>\n",
              "      <td>-0.635082</td>\n",
              "      <td>0.225690</td>\n",
              "      <td>0.327470</td>\n",
              "      <td>-0.689993</td>\n",
              "      <td>0.754202</td>\n",
              "      <td>-0.248573</td>\n",
              "      <td>-1.092064</td>\n",
              "      <td>0.000000</td>\n",
              "      <td>1.374992</td>\n",
              "      <td>-0.653674</td>\n",
              "      <td>0.930349</td>\n",
              "      <td>1.107436</td>\n",
              "      <td>1.138904</td>\n",
              "      <td>-1.578198</td>\n",
              "      <td>-1.046985</td>\n",
              "      <td>0.000000</td>\n",
              "      <td>0.657930</td>\n",
              "      <td>-0.010455</td>\n",
              "      <td>-0.045767</td>\n",
              "      <td>3.101961</td>\n",
              "    </tr>\n",
              "    <tr>\n",
              "      <th>1</th>\n",
              "      <td>0.907542</td>\n",
              "      <td>0.329147</td>\n",
              "      <td>0.359412</td>\n",
              "      <td>1.497970</td>\n",
              "      <td>-0.313010</td>\n",
              "      <td>1.095531</td>\n",
              "      <td>-0.557525</td>\n",
              "      <td>-1.588230</td>\n",
              "      <td>2.173076</td>\n",
              "      <td>0.812581</td>\n",
              "      <td>-0.213642</td>\n",
              "      <td>1.271015</td>\n",
              "      <td>2.214872</td>\n",
              "      <td>0.499994</td>\n",
              "      <td>-1.261432</td>\n",
              "      <td>0.732156</td>\n",
              "      <td>0.000000</td>\n",
              "      <td>0.398701</td>\n",
              "      <td>-1.138930</td>\n",
              "      <td>-0.000819</td>\n",
              "      <td>0.000000</td>\n",
              "    </tr>\n",
              "    <tr>\n",
              "      <th>2</th>\n",
              "      <td>0.798835</td>\n",
              "      <td>1.470639</td>\n",
              "      <td>-1.635975</td>\n",
              "      <td>0.453773</td>\n",
              "      <td>0.425629</td>\n",
              "      <td>1.104875</td>\n",
              "      <td>1.282322</td>\n",
              "      <td>1.381664</td>\n",
              "      <td>0.000000</td>\n",
              "      <td>0.851737</td>\n",
              "      <td>1.540659</td>\n",
              "      <td>-0.819690</td>\n",
              "      <td>2.214872</td>\n",
              "      <td>0.993490</td>\n",
              "      <td>0.356080</td>\n",
              "      <td>-0.208778</td>\n",
              "      <td>2.548224</td>\n",
              "      <td>1.256955</td>\n",
              "      <td>1.128848</td>\n",
              "      <td>0.900461</td>\n",
              "      <td>0.000000</td>\n",
              "    </tr>\n",
              "    <tr>\n",
              "      <th>3</th>\n",
              "      <td>1.344385</td>\n",
              "      <td>-0.876626</td>\n",
              "      <td>0.935913</td>\n",
              "      <td>1.992050</td>\n",
              "      <td>0.882454</td>\n",
              "      <td>1.786066</td>\n",
              "      <td>-1.646778</td>\n",
              "      <td>-0.942383</td>\n",
              "      <td>0.000000</td>\n",
              "      <td>2.423265</td>\n",
              "      <td>-0.676016</td>\n",
              "      <td>0.736159</td>\n",
              "      <td>2.214872</td>\n",
              "      <td>1.298720</td>\n",
              "      <td>-1.430738</td>\n",
              "      <td>-0.364658</td>\n",
              "      <td>0.000000</td>\n",
              "      <td>0.745313</td>\n",
              "      <td>-0.678379</td>\n",
              "      <td>-1.360356</td>\n",
              "      <td>0.000000</td>\n",
              "    </tr>\n",
              "    <tr>\n",
              "      <th>4</th>\n",
              "      <td>1.105009</td>\n",
              "      <td>0.321356</td>\n",
              "      <td>1.522401</td>\n",
              "      <td>0.882808</td>\n",
              "      <td>-1.205349</td>\n",
              "      <td>0.681466</td>\n",
              "      <td>-1.070464</td>\n",
              "      <td>-0.921871</td>\n",
              "      <td>0.000000</td>\n",
              "      <td>0.800872</td>\n",
              "      <td>1.020974</td>\n",
              "      <td>0.971407</td>\n",
              "      <td>2.214872</td>\n",
              "      <td>0.596761</td>\n",
              "      <td>-0.350273</td>\n",
              "      <td>0.631194</td>\n",
              "      <td>0.000000</td>\n",
              "      <td>0.479999</td>\n",
              "      <td>-0.373566</td>\n",
              "      <td>0.113041</td>\n",
              "      <td>0.000000</td>\n",
              "    </tr>\n",
              "  </tbody>\n",
              "</table>\n",
              "</div>"
            ],
            "text/plain": [
              "   lepton pT  lepton eta  lepton phi  ...  jet 4 eta  jet 4 phi  jet 4 b-tag\n",
              "0   0.869293   -0.635082    0.225690  ...  -0.010455  -0.045767     3.101961\n",
              "1   0.907542    0.329147    0.359412  ...  -1.138930  -0.000819     0.000000\n",
              "2   0.798835    1.470639   -1.635975  ...   1.128848   0.900461     0.000000\n",
              "3   1.344385   -0.876626    0.935913  ...  -0.678379  -1.360356     0.000000\n",
              "4   1.105009    0.321356    1.522401  ...  -0.373566   0.113041     0.000000\n",
              "\n",
              "[5 rows x 21 columns]"
            ]
          },
          "metadata": {
            "tags": []
          },
          "execution_count": 9
        }
      ]
    },
    {
      "cell_type": "markdown",
      "metadata": {
        "id": "qQ-in3OpgWUi"
      },
      "source": [
        "#### Standardize and scale\n",
        "\n",
        "Data needs to be standardized: zero mean and standard deviation one. But, for features always greater than zero, scaling is done so that values are between [0,2]. "
      ]
    },
    {
      "cell_type": "code",
      "metadata": {
        "id": "UZszXMXWgYtn"
      },
      "source": [
        "standardizedColumns = ['lepton eta', 'lepton phi', 'missing energy phi',\n",
        "                        'jet 1 eta', 'jet 1 phi', 'jet 2 eta', 'jet 2 phi', \n",
        "                        'jet 3 eta', 'jet 3 phi', 'jet 4 eta', 'jet 4 phi']\n",
        "X_standardized = StandardScaler().fit_transform(X[standardizedColumns]) \n",
        "X_df_standardized = pd.DataFrame(X_standardized)\n",
        "X_df_standardized.columns = standardizedColumns"
      ],
      "execution_count": 10,
      "outputs": []
    },
    {
      "cell_type": "code",
      "metadata": {
        "id": "_1wycG7xgcUl"
      },
      "source": [
        "scaledColums = ['lepton pT', 'missing energy magnitude', \n",
        "             'jet 1 pt', 'jet 1 b-tag', 'jet 2 pt', 'jet 2 b-tag', \n",
        "             'jet 3 pt', 'jet 3 b-tag', 'jet 4 pt', 'jet 4 b-tag']\n",
        "X_scaled = MinMaxScaler(feature_range=(0, 2)).fit_transform(X[scaledColums]) \n",
        "X_df_scaled = pd.DataFrame(X_scaled)\n",
        "X_df_scaled.columns = scaledColums"
      ],
      "execution_count": 11,
      "outputs": []
    },
    {
      "cell_type": "markdown",
      "metadata": {
        "id": "I2kStkBLghdD"
      },
      "source": [
        "Combine to a single training set again. "
      ]
    },
    {
      "cell_type": "code",
      "metadata": {
        "colab": {
          "base_uri": "https://localhost:8080/",
          "height": 261
        },
        "id": "Ge66_FVSgnhB",
        "outputId": "18951ece-5507-4b3f-c7d4-19703258adb1"
      },
      "source": [
        "X_combined = X_df_standardized.merge(X_df_scaled, left_index=True, right_index=True)\n",
        "X_combined.tail()"
      ],
      "execution_count": 12,
      "outputs": [
        {
          "output_type": "execute_result",
          "data": {
            "text/html": [
              "<div>\n",
              "<style scoped>\n",
              "    .dataframe tbody tr th:only-of-type {\n",
              "        vertical-align: middle;\n",
              "    }\n",
              "\n",
              "    .dataframe tbody tr th {\n",
              "        vertical-align: top;\n",
              "    }\n",
              "\n",
              "    .dataframe thead th {\n",
              "        text-align: right;\n",
              "    }\n",
              "</style>\n",
              "<table border=\"1\" class=\"dataframe\">\n",
              "  <thead>\n",
              "    <tr style=\"text-align: right;\">\n",
              "      <th></th>\n",
              "      <th>lepton eta</th>\n",
              "      <th>lepton phi</th>\n",
              "      <th>missing energy phi</th>\n",
              "      <th>jet 1 eta</th>\n",
              "      <th>jet 1 phi</th>\n",
              "      <th>jet 2 eta</th>\n",
              "      <th>jet 2 phi</th>\n",
              "      <th>jet 3 eta</th>\n",
              "      <th>jet 3 phi</th>\n",
              "      <th>jet 4 eta</th>\n",
              "      <th>jet 4 phi</th>\n",
              "      <th>lepton pT</th>\n",
              "      <th>missing energy magnitude</th>\n",
              "      <th>jet 1 pt</th>\n",
              "      <th>jet 1 b-tag</th>\n",
              "      <th>jet 2 pt</th>\n",
              "      <th>jet 2 b-tag</th>\n",
              "      <th>jet 3 pt</th>\n",
              "      <th>jet 3 b-tag</th>\n",
              "      <th>jet 4 pt</th>\n",
              "      <th>jet 4 b-tag</th>\n",
              "    </tr>\n",
              "  </thead>\n",
              "  <tbody>\n",
              "    <tr>\n",
              "      <th>5999995</th>\n",
              "      <td>0.216194</td>\n",
              "      <td>-0.414700</td>\n",
              "      <td>-1.154154</td>\n",
              "      <td>-0.256572</td>\n",
              "      <td>-1.518784</td>\n",
              "      <td>0.501957</td>\n",
              "      <td>0.745679</td>\n",
              "      <td>-1.031601</td>\n",
              "      <td>0.307135</td>\n",
              "      <td>-0.398024</td>\n",
              "      <td>1.312725</td>\n",
              "      <td>0.223488</td>\n",
              "      <td>0.070915</td>\n",
              "      <td>0.075381</td>\n",
              "      <td>2.0</td>\n",
              "      <td>0.075906</td>\n",
              "      <td>0.0</td>\n",
              "      <td>0.075661</td>\n",
              "      <td>0.0</td>\n",
              "      <td>0.099212</td>\n",
              "      <td>2.0</td>\n",
              "    </tr>\n",
              "    <tr>\n",
              "      <th>5999996</th>\n",
              "      <td>-0.188293</td>\n",
              "      <td>-1.245659</td>\n",
              "      <td>1.169012</td>\n",
              "      <td>-0.654944</td>\n",
              "      <td>-0.700900</td>\n",
              "      <td>0.339346</td>\n",
              "      <td>1.464234</td>\n",
              "      <td>1.077721</td>\n",
              "      <td>0.404146</td>\n",
              "      <td>-1.851715</td>\n",
              "      <td>0.744226</td>\n",
              "      <td>0.132610</td>\n",
              "      <td>0.103179</td>\n",
              "      <td>0.135997</td>\n",
              "      <td>0.0</td>\n",
              "      <td>0.100959</td>\n",
              "      <td>1.0</td>\n",
              "      <td>0.113459</td>\n",
              "      <td>1.0</td>\n",
              "      <td>0.049937</td>\n",
              "      <td>0.0</td>\n",
              "    </tr>\n",
              "    <tr>\n",
              "      <th>5999997</th>\n",
              "      <td>0.513526</td>\n",
              "      <td>-0.363972</td>\n",
              "      <td>0.899707</td>\n",
              "      <td>0.231091</td>\n",
              "      <td>-1.517131</td>\n",
              "      <td>-0.684430</td>\n",
              "      <td>0.385574</td>\n",
              "      <td>-1.315912</td>\n",
              "      <td>-0.601351</td>\n",
              "      <td>0.896165</td>\n",
              "      <td>-0.574839</td>\n",
              "      <td>0.049543</td>\n",
              "      <td>0.162591</td>\n",
              "      <td>0.196361</td>\n",
              "      <td>2.0</td>\n",
              "      <td>0.140297</td>\n",
              "      <td>2.0</td>\n",
              "      <td>0.052497</td>\n",
              "      <td>0.0</td>\n",
              "      <td>0.011629</td>\n",
              "      <td>0.0</td>\n",
              "    </tr>\n",
              "    <tr>\n",
              "      <th>5999998</th>\n",
              "      <td>1.884341</td>\n",
              "      <td>0.858579</td>\n",
              "      <td>-0.378351</td>\n",
              "      <td>0.028961</td>\n",
              "      <td>-0.413755</td>\n",
              "      <td>-0.365943</td>\n",
              "      <td>0.326568</td>\n",
              "      <td>-2.146283</td>\n",
              "      <td>1.405681</td>\n",
              "      <td>1.199465</td>\n",
              "      <td>1.686026</td>\n",
              "      <td>0.027267</td>\n",
              "      <td>0.096537</td>\n",
              "      <td>0.188074</td>\n",
              "      <td>2.0</td>\n",
              "      <td>0.128144</td>\n",
              "      <td>1.0</td>\n",
              "      <td>0.152895</td>\n",
              "      <td>0.0</td>\n",
              "      <td>0.027069</td>\n",
              "      <td>0.0</td>\n",
              "    </tr>\n",
              "    <tr>\n",
              "      <th>5999999</th>\n",
              "      <td>-1.282049</td>\n",
              "      <td>1.343809</td>\n",
              "      <td>0.788375</td>\n",
              "      <td>-0.611771</td>\n",
              "      <td>-0.781916</td>\n",
              "      <td>2.258925</td>\n",
              "      <td>0.674540</td>\n",
              "      <td>-1.230168</td>\n",
              "      <td>-1.288149</td>\n",
              "      <td>-0.933551</td>\n",
              "      <td>0.034017</td>\n",
              "      <td>0.258277</td>\n",
              "      <td>0.193407</td>\n",
              "      <td>0.199348</td>\n",
              "      <td>2.0</td>\n",
              "      <td>0.069885</td>\n",
              "      <td>0.0</td>\n",
              "      <td>0.201709</td>\n",
              "      <td>0.0</td>\n",
              "      <td>0.119242</td>\n",
              "      <td>1.0</td>\n",
              "    </tr>\n",
              "  </tbody>\n",
              "</table>\n",
              "</div>"
            ],
            "text/plain": [
              "         lepton eta  lepton phi  ...  jet 4 pt  jet 4 b-tag\n",
              "5999995    0.216194   -0.414700  ...  0.099212          2.0\n",
              "5999996   -0.188293   -1.245659  ...  0.049937          0.0\n",
              "5999997    0.513526   -0.363972  ...  0.011629          0.0\n",
              "5999998    1.884341    0.858579  ...  0.027069          0.0\n",
              "5999999   -1.282049    1.343809  ...  0.119242          1.0\n",
              "\n",
              "[5 rows x 21 columns]"
            ]
          },
          "metadata": {
            "tags": []
          },
          "execution_count": 12
        }
      ]
    },
    {
      "cell_type": "markdown",
      "metadata": {
        "id": "hdcU8o1KgwKu"
      },
      "source": [
        "#### Training and validation sets\n",
        "\n",
        "Separate validation set from the training set. "
      ]
    },
    {
      "cell_type": "code",
      "metadata": {
        "id": "ij1CFS9jg01l"
      },
      "source": [
        "X_train = X_combined.iloc[0:dataRowsTraining,:]\n",
        "y_train = y.iloc[0:dataRowsTraining]"
      ],
      "execution_count": 15,
      "outputs": []
    },
    {
      "cell_type": "code",
      "metadata": {
        "colab": {
          "base_uri": "https://localhost:8080/",
          "height": 261
        },
        "id": "BAejS4qXg-Ln",
        "outputId": "ef363017-9c2a-481e-dc79-609cbf32dca5"
      },
      "source": [
        "validationStartRow = dataRowsTraining + 1\n",
        "validationEndRow = dataRowsTraining + dataRowsValidation\n",
        "X_validation = X_combined.iloc[validationStartRow:validationEndRow,:].reset_index(drop=True)\n",
        "y_validation = y.iloc[validationStartRow:validationEndRow].reset_index(drop=True)\n",
        "X_validation.head()"
      ],
      "execution_count": 16,
      "outputs": [
        {
          "output_type": "execute_result",
          "data": {
            "text/html": [
              "<div>\n",
              "<style scoped>\n",
              "    .dataframe tbody tr th:only-of-type {\n",
              "        vertical-align: middle;\n",
              "    }\n",
              "\n",
              "    .dataframe tbody tr th {\n",
              "        vertical-align: top;\n",
              "    }\n",
              "\n",
              "    .dataframe thead th {\n",
              "        text-align: right;\n",
              "    }\n",
              "</style>\n",
              "<table border=\"1\" class=\"dataframe\">\n",
              "  <thead>\n",
              "    <tr style=\"text-align: right;\">\n",
              "      <th></th>\n",
              "      <th>lepton eta</th>\n",
              "      <th>lepton phi</th>\n",
              "      <th>missing energy phi</th>\n",
              "      <th>jet 1 eta</th>\n",
              "      <th>jet 1 phi</th>\n",
              "      <th>jet 2 eta</th>\n",
              "      <th>jet 2 phi</th>\n",
              "      <th>jet 3 eta</th>\n",
              "      <th>jet 3 phi</th>\n",
              "      <th>jet 4 eta</th>\n",
              "      <th>jet 4 phi</th>\n",
              "      <th>lepton pT</th>\n",
              "      <th>missing energy magnitude</th>\n",
              "      <th>jet 1 pt</th>\n",
              "      <th>jet 1 b-tag</th>\n",
              "      <th>jet 2 pt</th>\n",
              "      <th>jet 2 b-tag</th>\n",
              "      <th>jet 3 pt</th>\n",
              "      <th>jet 3 b-tag</th>\n",
              "      <th>jet 4 pt</th>\n",
              "      <th>jet 4 b-tag</th>\n",
              "    </tr>\n",
              "  </thead>\n",
              "  <tbody>\n",
              "    <tr>\n",
              "      <th>0</th>\n",
              "      <td>1.364976</td>\n",
              "      <td>-0.843139</td>\n",
              "      <td>-1.041729</td>\n",
              "      <td>0.027980</td>\n",
              "      <td>1.143303</td>\n",
              "      <td>-0.479482</td>\n",
              "      <td>0.018852</td>\n",
              "      <td>-0.084798</td>\n",
              "      <td>-1.408311</td>\n",
              "      <td>-1.369080</td>\n",
              "      <td>0.743123</td>\n",
              "      <td>0.124835</td>\n",
              "      <td>0.247326</td>\n",
              "      <td>0.178715</td>\n",
              "      <td>1.0</td>\n",
              "      <td>0.099113</td>\n",
              "      <td>0.0</td>\n",
              "      <td>0.167183</td>\n",
              "      <td>1.0</td>\n",
              "      <td>0.042975</td>\n",
              "      <td>0.0</td>\n",
              "    </tr>\n",
              "    <tr>\n",
              "      <th>1</th>\n",
              "      <td>0.341691</td>\n",
              "      <td>-0.622028</td>\n",
              "      <td>1.325550</td>\n",
              "      <td>-0.122145</td>\n",
              "      <td>-0.960484</td>\n",
              "      <td>1.574804</td>\n",
              "      <td>-0.186945</td>\n",
              "      <td>-1.656184</td>\n",
              "      <td>0.903536</td>\n",
              "      <td>-0.800496</td>\n",
              "      <td>1.238837</td>\n",
              "      <td>0.048929</td>\n",
              "      <td>0.089524</td>\n",
              "      <td>0.207298</td>\n",
              "      <td>2.0</td>\n",
              "      <td>0.109376</td>\n",
              "      <td>0.0</td>\n",
              "      <td>0.088533</td>\n",
              "      <td>0.0</td>\n",
              "      <td>0.090540</td>\n",
              "      <td>0.0</td>\n",
              "    </tr>\n",
              "    <tr>\n",
              "      <th>2</th>\n",
              "      <td>-1.162344</td>\n",
              "      <td>0.725141</td>\n",
              "      <td>1.452326</td>\n",
              "      <td>1.323181</td>\n",
              "      <td>-0.192199</td>\n",
              "      <td>-1.208826</td>\n",
              "      <td>-1.444282</td>\n",
              "      <td>0.452235</td>\n",
              "      <td>-0.025342</td>\n",
              "      <td>-1.596348</td>\n",
              "      <td>-0.273218</td>\n",
              "      <td>0.078655</td>\n",
              "      <td>0.313477</td>\n",
              "      <td>0.166621</td>\n",
              "      <td>0.0</td>\n",
              "      <td>0.194447</td>\n",
              "      <td>2.0</td>\n",
              "      <td>0.257290</td>\n",
              "      <td>2.0</td>\n",
              "      <td>0.005250</td>\n",
              "      <td>0.0</td>\n",
              "    </tr>\n",
              "    <tr>\n",
              "      <th>3</th>\n",
              "      <td>-0.949964</td>\n",
              "      <td>-1.348219</td>\n",
              "      <td>1.487444</td>\n",
              "      <td>-0.354693</td>\n",
              "      <td>-1.620744</td>\n",
              "      <td>-0.495839</td>\n",
              "      <td>0.376199</td>\n",
              "      <td>0.486533</td>\n",
              "      <td>-0.024791</td>\n",
              "      <td>-1.651719</td>\n",
              "      <td>1.619306</td>\n",
              "      <td>0.048350</td>\n",
              "      <td>0.116021</td>\n",
              "      <td>0.066569</td>\n",
              "      <td>0.0</td>\n",
              "      <td>0.097399</td>\n",
              "      <td>2.0</td>\n",
              "      <td>0.150220</td>\n",
              "      <td>2.0</td>\n",
              "      <td>0.075216</td>\n",
              "      <td>0.0</td>\n",
              "    </tr>\n",
              "    <tr>\n",
              "      <th>4</th>\n",
              "      <td>-1.362174</td>\n",
              "      <td>0.281266</td>\n",
              "      <td>0.148316</td>\n",
              "      <td>1.314350</td>\n",
              "      <td>-0.197159</td>\n",
              "      <td>0.328762</td>\n",
              "      <td>1.151004</td>\n",
              "      <td>-1.721169</td>\n",
              "      <td>1.725930</td>\n",
              "      <td>-0.807107</td>\n",
              "      <td>-1.632985</td>\n",
              "      <td>0.212386</td>\n",
              "      <td>0.077031</td>\n",
              "      <td>0.065938</td>\n",
              "      <td>0.0</td>\n",
              "      <td>0.072874</td>\n",
              "      <td>2.0</td>\n",
              "      <td>0.073804</td>\n",
              "      <td>0.0</td>\n",
              "      <td>0.104774</td>\n",
              "      <td>2.0</td>\n",
              "    </tr>\n",
              "  </tbody>\n",
              "</table>\n",
              "</div>"
            ],
            "text/plain": [
              "   lepton eta  lepton phi  ...  jet 4 pt  jet 4 b-tag\n",
              "0    1.364976   -0.843139  ...  0.042975          0.0\n",
              "1    0.341691   -0.622028  ...  0.090540          0.0\n",
              "2   -1.162344    0.725141  ...  0.005250          0.0\n",
              "3   -0.949964   -1.348219  ...  0.075216          0.0\n",
              "4   -1.362174    0.281266  ...  0.104774          2.0\n",
              "\n",
              "[5 rows x 21 columns]"
            ]
          },
          "metadata": {
            "tags": []
          },
          "execution_count": 16
        }
      ]
    },
    {
      "cell_type": "markdown",
      "metadata": {
        "id": "h6r3ZLy5XQz8"
      },
      "source": [
        "### Define neural network architecture \n",
        "\n",
        "Define constants for NN architecture. "
      ]
    },
    {
      "cell_type": "code",
      "metadata": {
        "id": "VJqUwqr4XQz8"
      },
      "source": [
        "noInputUnits = X.shape[1]\n",
        "noHiddenUnits = 300\n",
        "learningRate = 0.001 #original article: 0.05, but not working\n",
        "batchSize = 100\n",
        "noEpochs = 20\n",
        "validationSplit = 0.2\n",
        "learningRateDecay = 1e-6 #original article: 1.0000002\n",
        "activationFunc = 'relu' #original article: tanh\n",
        "\n",
        "#TODO TODO#\n",
        "#weight initialization\n",
        "learningRateMin = 1e-6\n",
        "weightDecay = 1e-5 \n",
        "momentumTerm = 0.9"
      ],
      "execution_count": 17,
      "outputs": []
    },
    {
      "cell_type": "markdown",
      "metadata": {
        "id": "rT9EaMfgXQz-"
      },
      "source": [
        "Define the neural network architecture. We are creating a deep NN with five hidden layer, as in the article.  "
      ]
    },
    {
      "cell_type": "code",
      "metadata": {
        "id": "Efq8PHNGXQz-",
        "colab": {
          "base_uri": "https://localhost:8080/"
        },
        "outputId": "b29d582b-7ca9-48e1-b3ca-ff4af7019a5f"
      },
      "source": [
        "model = Sequential()\n",
        "model.add(Dense(noHiddenUnits, input_dim=noInputUnits, activation=activationFunc))\n",
        "model.add(Dense(noHiddenUnits, activation=activationFunc))\n",
        "model.add(Dense(noHiddenUnits, activation=activationFunc))\n",
        "model.add(Dense(noHiddenUnits, activation=activationFunc))\n",
        "model.add(Dense(noHiddenUnits, activation=activationFunc))\n",
        "model.add(Dense(1, activation='sigmoid'))\n",
        "model.summary()"
      ],
      "execution_count": 18,
      "outputs": [
        {
          "output_type": "stream",
          "text": [
            "Model: \"sequential\"\n",
            "_________________________________________________________________\n",
            "Layer (type)                 Output Shape              Param #   \n",
            "=================================================================\n",
            "dense (Dense)                (None, 300)               6600      \n",
            "_________________________________________________________________\n",
            "dense_1 (Dense)              (None, 300)               90300     \n",
            "_________________________________________________________________\n",
            "dense_2 (Dense)              (None, 300)               90300     \n",
            "_________________________________________________________________\n",
            "dense_3 (Dense)              (None, 300)               90300     \n",
            "_________________________________________________________________\n",
            "dense_4 (Dense)              (None, 300)               90300     \n",
            "_________________________________________________________________\n",
            "dense_5 (Dense)              (None, 1)                 301       \n",
            "=================================================================\n",
            "Total params: 368,101\n",
            "Trainable params: 368,101\n",
            "Non-trainable params: 0\n",
            "_________________________________________________________________\n"
          ],
          "name": "stdout"
        }
      ]
    },
    {
      "cell_type": "markdown",
      "metadata": {
        "id": "r58rfRxqXQz_"
      },
      "source": [
        "Compile the keras NN model."
      ]
    },
    {
      "cell_type": "code",
      "metadata": {
        "id": "i-NsLj_XXQz_"
      },
      "source": [
        "optimizer = Nadam(lr=learningRate, decay=learningRateDecay)\n",
        "#optimizer = Adam()\n",
        "model.compile(loss='binary_crossentropy', \n",
        "              optimizer=optimizer, \n",
        "              metrics=['accuracy'])"
      ],
      "execution_count": 19,
      "outputs": []
    },
    {
      "cell_type": "markdown",
      "metadata": {
        "id": "FCKykp72XQ0A"
      },
      "source": [
        "### Train neural network \n",
        "\n",
        "Fit the keras NN model on the dataset."
      ]
    },
    {
      "cell_type": "code",
      "metadata": {
        "scrolled": true,
        "id": "vec8nlRqXQ0B",
        "colab": {
          "base_uri": "https://localhost:8080/"
        },
        "outputId": "28aa04e4-ee5c-4bbc-8d7e-a5d15b48dd9c"
      },
      "source": [
        "fittedModel = model.fit(X_train, y_train, \n",
        "                    validation_split = validationSplit,\n",
        "                    epochs = noEpochs, \n",
        "                    batch_size = batchSize)"
      ],
      "execution_count": 20,
      "outputs": [
        {
          "output_type": "stream",
          "text": [
            "Epoch 1/20\n",
            "40000/40000 [==============================] - 174s 4ms/step - loss: 0.6204 - accuracy: 0.6459 - val_loss: 0.5561 - val_accuracy: 0.7123\n",
            "Epoch 2/20\n",
            "40000/40000 [==============================] - 166s 4ms/step - loss: 0.5488 - accuracy: 0.7180 - val_loss: 0.5345 - val_accuracy: 0.7287\n",
            "Epoch 3/20\n",
            "40000/40000 [==============================] - 162s 4ms/step - loss: 0.5288 - accuracy: 0.7332 - val_loss: 0.5225 - val_accuracy: 0.7374\n",
            "Epoch 4/20\n",
            "40000/40000 [==============================] - 161s 4ms/step - loss: 0.5162 - accuracy: 0.7419 - val_loss: 0.5122 - val_accuracy: 0.7435\n",
            "Epoch 5/20\n",
            "40000/40000 [==============================] - 163s 4ms/step - loss: 0.5067 - accuracy: 0.7485 - val_loss: 0.5050 - val_accuracy: 0.7491\n",
            "Epoch 6/20\n",
            "40000/40000 [==============================] - 160s 4ms/step - loss: 0.4997 - accuracy: 0.7535 - val_loss: 0.4997 - val_accuracy: 0.7531\n",
            "Epoch 7/20\n",
            "40000/40000 [==============================] - 161s 4ms/step - loss: 0.4940 - accuracy: 0.7570 - val_loss: 0.4957 - val_accuracy: 0.7561\n",
            "Epoch 8/20\n",
            "40000/40000 [==============================] - 163s 4ms/step - loss: 0.4898 - accuracy: 0.7597 - val_loss: 0.4929 - val_accuracy: 0.7569\n",
            "Epoch 9/20\n",
            "40000/40000 [==============================] - 161s 4ms/step - loss: 0.4865 - accuracy: 0.7617 - val_loss: 0.4908 - val_accuracy: 0.7595\n",
            "Epoch 10/20\n",
            "40000/40000 [==============================] - 165s 4ms/step - loss: 0.4831 - accuracy: 0.7644 - val_loss: 0.4881 - val_accuracy: 0.7603\n",
            "Epoch 11/20\n",
            "40000/40000 [==============================] - 162s 4ms/step - loss: 0.4805 - accuracy: 0.7659 - val_loss: 0.4863 - val_accuracy: 0.7615\n",
            "Epoch 12/20\n",
            "40000/40000 [==============================] - 165s 4ms/step - loss: 0.4782 - accuracy: 0.7677 - val_loss: 0.4870 - val_accuracy: 0.7624\n",
            "Epoch 13/20\n",
            "40000/40000 [==============================] - 171s 4ms/step - loss: 0.4763 - accuracy: 0.7686 - val_loss: 0.4847 - val_accuracy: 0.7636\n",
            "Epoch 14/20\n",
            "40000/40000 [==============================] - 172s 4ms/step - loss: 0.4747 - accuracy: 0.7692 - val_loss: 0.4828 - val_accuracy: 0.7640\n",
            "Epoch 15/20\n",
            "40000/40000 [==============================] - 168s 4ms/step - loss: 0.4732 - accuracy: 0.7705 - val_loss: 0.4822 - val_accuracy: 0.7662\n",
            "Epoch 16/20\n",
            "40000/40000 [==============================] - 170s 4ms/step - loss: 0.4709 - accuracy: 0.7720 - val_loss: 0.4805 - val_accuracy: 0.7656\n",
            "Epoch 17/20\n",
            "40000/40000 [==============================] - 177s 4ms/step - loss: 0.4701 - accuracy: 0.7728 - val_loss: 0.4808 - val_accuracy: 0.7660\n",
            "Epoch 18/20\n",
            "40000/40000 [==============================] - 172s 4ms/step - loss: 0.4691 - accuracy: 0.7735 - val_loss: 0.4783 - val_accuracy: 0.7667\n",
            "Epoch 19/20\n",
            "40000/40000 [==============================] - 174s 4ms/step - loss: 0.4686 - accuracy: 0.7743 - val_loss: 0.4774 - val_accuracy: 0.7675\n",
            "Epoch 20/20\n",
            "40000/40000 [==============================] - 173s 4ms/step - loss: 0.4663 - accuracy: 0.7753 - val_loss: 0.4786 - val_accuracy: 0.7683\n"
          ],
          "name": "stdout"
        }
      ]
    },
    {
      "cell_type": "markdown",
      "metadata": {
        "id": "pxhyerJ1XQ0C"
      },
      "source": [
        "### Evaluate the neural network \n",
        "\n",
        "Evaluate the keras NN model using validation set. "
      ]
    },
    {
      "cell_type": "code",
      "metadata": {
        "id": "tbKn74zSXQ0D",
        "colab": {
          "base_uri": "https://localhost:8080/"
        },
        "outputId": "1938d1d8-4c0d-40d0-86e6-75592668317f"
      },
      "source": [
        "_, accuracy = model.evaluate(X_validation, y_validation)"
      ],
      "execution_count": 21,
      "outputs": [
        {
          "output_type": "stream",
          "text": [
            "31250/31250 [==============================] - 68s 2ms/step - loss: 0.4784 - accuracy: 0.7687\n"
          ],
          "name": "stdout"
        }
      ]
    },
    {
      "cell_type": "markdown",
      "metadata": {
        "id": "wMRbueEnXQ0F"
      },
      "source": [
        "Make class predictions with the NN model. "
      ]
    },
    {
      "cell_type": "code",
      "metadata": {
        "id": "hTkhKzChXQ0H",
        "colab": {
          "base_uri": "https://localhost:8080/"
        },
        "outputId": "a9856466-ece6-4d28-a72d-3230100bc642"
      },
      "source": [
        "predictions = model.predict_classes(X_validation)"
      ],
      "execution_count": 22,
      "outputs": [
        {
          "output_type": "stream",
          "text": [
            "/usr/local/lib/python3.6/dist-packages/tensorflow/python/keras/engine/sequential.py:450: UserWarning: `model.predict_classes()` is deprecated and will be removed after 2021-01-01. Please use instead:* `np.argmax(model.predict(x), axis=-1)`,   if your model does multi-class classification   (e.g. if it uses a `softmax` last-layer activation).* `(model.predict(x) > 0.5).astype(\"int32\")`,   if your model does binary classification   (e.g. if it uses a `sigmoid` last-layer activation).\n",
            "  warnings.warn('`model.predict_classes()` is deprecated and '\n"
          ],
          "name": "stderr"
        }
      ]
    },
    {
      "cell_type": "markdown",
      "metadata": {
        "id": "XWIjBy6_XQ0L"
      },
      "source": [
        "Get predictions for few cases. "
      ]
    },
    {
      "cell_type": "code",
      "metadata": {
        "id": "B22tG1_XXQ0M",
        "colab": {
          "base_uri": "https://localhost:8080/"
        },
        "outputId": "a5147300-0e7b-41f3-971d-255bf819f832"
      },
      "source": [
        "for i in range(20):\n",
        "    print('Row %s => %d (expected %d)' % (i, predictions[i], \n",
        "                                          y_validation[i]))"
      ],
      "execution_count": 23,
      "outputs": [
        {
          "output_type": "stream",
          "text": [
            "Row 0 => 0 (expected 0)\n",
            "Row 1 => 1 (expected 0)\n",
            "Row 2 => 0 (expected 0)\n",
            "Row 3 => 0 (expected 0)\n",
            "Row 4 => 0 (expected 0)\n",
            "Row 5 => 1 (expected 0)\n",
            "Row 6 => 1 (expected 1)\n",
            "Row 7 => 1 (expected 1)\n",
            "Row 8 => 0 (expected 1)\n",
            "Row 9 => 1 (expected 1)\n",
            "Row 10 => 1 (expected 1)\n",
            "Row 11 => 0 (expected 1)\n",
            "Row 12 => 1 (expected 1)\n",
            "Row 13 => 0 (expected 0)\n",
            "Row 14 => 1 (expected 1)\n",
            "Row 15 => 0 (expected 0)\n",
            "Row 16 => 1 (expected 1)\n",
            "Row 17 => 0 (expected 0)\n",
            "Row 18 => 1 (expected 0)\n",
            "Row 19 => 0 (expected 0)\n"
          ],
          "name": "stdout"
        }
      ]
    },
    {
      "cell_type": "markdown",
      "metadata": {
        "id": "wwaCv43pXQ0N"
      },
      "source": [
        "#### Plot accuracy\n",
        "\n",
        "Plot accuracy behavior during epochs. The training and testing phases should not be too much different, otherwise the model is overfitted. "
      ]
    },
    {
      "cell_type": "code",
      "metadata": {
        "id": "KahM2ZZkXQ0O",
        "colab": {
          "base_uri": "https://localhost:8080/",
          "height": 295
        },
        "outputId": "14b96010-8e5b-4525-b0c4-b1ae8c9aef3a"
      },
      "source": [
        "plt.plot(fittedModel.history['accuracy'])\n",
        "plt.plot(fittedModel.history['val_accuracy'])\n",
        "plt.title('model accuracy')\n",
        "plt.ylabel('accuracy')\n",
        "plt.xlabel('epoch')\n",
        "plt.legend(['train', 'test'], loc='lower right')\n",
        "plt.show()"
      ],
      "execution_count": 24,
      "outputs": [
        {
          "output_type": "display_data",
          "data": {
            "image/png": "[encoded data removed]",
            "text/plain": [
              "<Figure size 432x288 with 1 Axes>"
            ]
          },
          "metadata": {
            "tags": [],
            "needs_background": "light"
          }
        }
      ]
    },
    {
      "cell_type": "markdown",
      "metadata": {
        "id": "oyhEXQJ7XQ0P"
      },
      "source": [
        "#### Plot loss \n",
        "\n",
        "Plot loss behavior during epochs. "
      ]
    },
    {
      "cell_type": "code",
      "metadata": {
        "id": "XnnZ_j4cXQ0Q",
        "colab": {
          "base_uri": "https://localhost:8080/",
          "height": 295
        },
        "outputId": "72e4107d-f279-44f6-bc04-ae917a07e7d1"
      },
      "source": [
        "plt.plot(fittedModel.history['loss'])\n",
        "plt.plot(fittedModel.history['val_loss'])\n",
        "plt.title('model loss')\n",
        "plt.ylabel('loss')\n",
        "plt.xlabel('epoch')\n",
        "plt.legend(['train', 'test'], loc='upper right')\n",
        "plt.show()"
      ],
      "execution_count": 25,
      "outputs": [
        {
          "output_type": "display_data",
          "data": {
            "image/png": "[encoded data removed]",
            "text/plain": [
              "<Figure size 432x288 with 1 Axes>"
            ]
          },
          "metadata": {
            "tags": [],
            "needs_background": "light"
          }
        }
      ]
    },
    {
      "cell_type": "markdown",
      "metadata": {
        "id": "R0fYCbdgjgum"
      },
      "source": [
        "#### ROC and AUC\n",
        "\n",
        "The article used area under the ROC curve (AUC) as primary metric, and we can do that too. ROC curve plots TPR (True Positive Rate) versus FPR (False Positive Rate). First, we create Receiver Operating Characteristic (ROC) curves to illustrate the performance of the classifier. Then, we can get the AUC values, where larger AUC  indicates higher classification accuracy. \n",
        "\n",
        "First we need prediction probabilities, so they can be compared to the actual targets. "
      ]
    },
    {
      "cell_type": "code",
      "metadata": {
        "id": "5n0fIL1TXQ0S",
        "colab": {
          "base_uri": "https://localhost:8080/"
        },
        "outputId": "acda7550-106f-4530-e9ae-666509c12f9f"
      },
      "source": [
        "y_validationProbablity = model.predict_proba(X_validation)"
      ],
      "execution_count": 26,
      "outputs": [
        {
          "output_type": "stream",
          "text": [
            "/usr/local/lib/python3.6/dist-packages/tensorflow/python/keras/engine/sequential.py:425: UserWarning: `model.predict_proba()` is deprecated and will be removed after 2021-01-01. Please use `model.predict()` instead.\n",
            "  warnings.warn('`model.predict_proba()` is deprecated and '\n"
          ],
          "name": "stderr"
        }
      ]
    },
    {
      "cell_type": "markdown",
      "metadata": {
        "id": "jLHgFI4IjndZ"
      },
      "source": [
        "Next, we need to compute the TPR and FPR for various threshold values."
      ]
    },
    {
      "cell_type": "code",
      "metadata": {
        "id": "If6qBtYXjrAX"
      },
      "source": [
        "FPR, TPR, thresholds = roc_curve(y_validation, y_validationProbablity)"
      ],
      "execution_count": 27,
      "outputs": []
    },
    {
      "cell_type": "markdown",
      "metadata": {
        "id": "4TKWTV5HjvIQ"
      },
      "source": [
        "Now, we can plot the ROC curve, that is TPR vs FPR. "
      ]
    },
    {
      "cell_type": "code",
      "metadata": {
        "colab": {
          "base_uri": "https://localhost:8080/",
          "height": 283
        },
        "id": "Nh-R4gbIjy2_",
        "outputId": "c85ce5ee-3a77-4161-c875-bd515e74ceeb"
      },
      "source": [
        "plt.plot(FPR,TPR) \n",
        "plt.axis([0,1,0,1]) \n",
        "plt.xlabel('False Positive Rate') \n",
        "plt.ylabel('True Positive Rate') \n",
        "plt.show()    "
      ],
      "execution_count": 28,
      "outputs": [
        {
          "output_type": "display_data",
          "data": {
            "image/png": "[encoded data removed]",
            "text/plain": [
              "<Figure size 432x288 with 1 Axes>"
            ]
          },
          "metadata": {
            "tags": [],
            "needs_background": "light"
          }
        }
      ]
    },
    {
      "cell_type": "markdown",
      "metadata": {
        "id": "A0345N7Lj4rA"
      },
      "source": [
        "Now, we can calculate area under the curve (AUC). Purely random classifier would have a AUC = 0.5, and perfect classifier would have AUC = 1. "
      ]
    },
    {
      "cell_type": "code",
      "metadata": {
        "colab": {
          "base_uri": "https://localhost:8080/"
        },
        "id": "g9Yuszulj90n",
        "outputId": "3efe27fb-48cb-48fe-a7e6-996721552c79"
      },
      "source": [
        "AUC = roc_auc_score(y_validation, y_validationProbablity) \n",
        "AUC"
      ],
      "execution_count": 29,
      "outputs": [
        {
          "output_type": "execute_result",
          "data": {
            "text/plain": [
              "0.8510394827806881"
            ]
          },
          "metadata": {
            "tags": []
          },
          "execution_count": 29
        }
      ]
    },
    {
      "cell_type": "markdown",
      "metadata": {
        "id": "12QcOxfmkB69"
      },
      "source": [
        "As a single number this doesn't say much, but se can compare it to the AUC obtained with shallow NN model. "
      ]
    },
    {
      "cell_type": "markdown",
      "metadata": {
        "id": "h-2n3WQikKSw"
      },
      "source": [
        "### Save the model \n",
        "\n",
        "Save the trained model for future use.  "
      ]
    },
    {
      "cell_type": "code",
      "metadata": {
        "colab": {
          "base_uri": "https://localhost:8080/"
        },
        "id": "TZAEsPHzkTJc",
        "outputId": "ed69f9f5-eec8-4dc6-bce6-aad16a482c54"
      },
      "source": [
        "model.save('deep_nn_lrdec')"
      ],
      "execution_count": 30,
      "outputs": [
        {
          "output_type": "stream",
          "text": [
            "INFO:tensorflow:Assets written to: deep_nn_lrdec/assets\n"
          ],
          "name": "stdout"
        }
      ]
    }
  ]
}