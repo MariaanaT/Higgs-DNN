{
  "nbformat": 4,
  "nbformat_minor": 0,
  "metadata": {
    "kernelspec": {
      "display_name": "Python 3",
      "language": "python",
      "name": "python3"
    },
    "language_info": {
      "codemirror_mode": {
        "name": "ipython",
        "version": 3
      },
      "file_extension": ".py",
      "mimetype": "text/x-python",
      "name": "python",
      "nbconvert_exporter": "python",
      "pygments_lexer": "ipython3",
      "version": "3.8.5"
    },
    "colab": {
      "name": "Copy of Higgs_DNN.ipynb",
      "provenance": [],
      "collapsed_sections": [],
      "toc_visible": true,
      "include_colab_link": true
    }
  },
  "cells": [
    {
      "cell_type": "markdown",
      "metadata": {
        "id": "view-in-github",
        "colab_type": "text"
      },
      "source": [
        "<a href=\"https://colab.research.google.com/github/MariaanaT/Higgs-DNN/blob/master/Higgs_DNN.ipynb\" target=\"_parent\"><img src=\"https://colab.research.google.com/assets/colab-badge.svg\" alt=\"Open In Colab\"/></a>"
      ]
    },
    {
      "cell_type": "markdown",
      "metadata": {
        "id": "Gg0Bk--mXQzM"
      },
      "source": [
        "# Searching Higgs boson with deep neural network\n",
        "\n",
        "This work aims to replicate work presented in paper *Baldi, P., P. Sadowski, and D. Whiteson. “Searching for Exotic Particles in High-energy Physics with Deep Learning.” Nature Communications 5 (July 2, 2014).* Nevertheless, the original paper uses Pylearn2 to train neural networks, but Tensorflow and Keras are used in this work. \n",
        "\n",
        "The dataset can be downloaded from [UCI Machine Learning Repository](https://archive.ics.uci.edu/ml/datasets/HIGGS). Data set description can be found from the article. See also [code in GitHub](https://github.com/uci-igb/higgs-susy) used in the original work. "
      ]
    },
    {
      "cell_type": "code",
      "metadata": {
        "id": "iME9j5MwXQzg"
      },
      "source": [
        "import numpy as np\n",
        "import pandas as pd\n",
        "from keras.models import Sequential\n",
        "from keras.layers import Dense\n",
        "\n",
        "import matplotlib.pyplot as plt"
      ],
      "execution_count": 1,
      "outputs": []
    },
    {
      "cell_type": "markdown",
      "metadata": {
        "id": "ATmXuCmeeDhO"
      },
      "source": [
        "### Load dataset \n",
        "\n",
        "Get dataset from Google Drive. Needed only when working with Google Colab. "
      ]
    },
    {
      "cell_type": "code",
      "metadata": {
        "colab": {
          "base_uri": "https://localhost:8080/"
        },
        "id": "nv9F1Q0sZvPe",
        "outputId": "2b5a4326-c3ce-4ea1-b73f-d64fd3f74895"
      },
      "source": [
        "from google.colab import drive\n",
        "drive.mount('/content/drive')"
      ],
      "execution_count": 2,
      "outputs": [
        {
          "output_type": "stream",
          "text": [
            "Mounted at /content/drive\n"
          ],
          "name": "stdout"
        }
      ]
    },
    {
      "cell_type": "markdown",
      "metadata": {
        "id": "VF37D5XcXQzk"
      },
      "source": [
        "Load the dataset. We need only the class label and low level features, that is, columns 1-22. High level features which have been derived from low level features, are in columns 23-29 and are left out. "
      ]
    },
    {
      "cell_type": "code",
      "metadata": {
        "id": "NdMzjWZVXQzm"
      },
      "source": [
        "#path = 'HIGGS.csv.gz' #link in own computer\n",
        "path = '/content/drive/My Drive/datasets/HIGGS.csv.gz' #link in Google Drive\n",
        "nrows = 2500000\n",
        "dataset = pd.read_csv(path, \n",
        "                      compression='gzip', \n",
        "                      usecols = list(range(0,22)), \n",
        "                      nrows = nrows,\n",
        "                      header = None)"
      ],
      "execution_count": 10,
      "outputs": []
    },
    {
      "cell_type": "markdown",
      "metadata": {
        "id": "nPhxVMUdXQzp"
      },
      "source": [
        "Print the firs few roads to make sure loading was done correctly. "
      ]
    },
    {
      "cell_type": "code",
      "metadata": {
        "id": "bnpt2YHaXQzq",
        "colab": {
          "base_uri": "https://localhost:8080/",
          "height": 226
        },
        "outputId": "d2b90cb2-4782-40f5-c6d9-8a002d092649"
      },
      "source": [
        "dataset.head()"
      ],
      "execution_count": 11,
      "outputs": [
        {
          "output_type": "execute_result",
          "data": {
            "text/html": [
              "<div>\n",
              "<style scoped>\n",
              "    .dataframe tbody tr th:only-of-type {\n",
              "        vertical-align: middle;\n",
              "    }\n",
              "\n",
              "    .dataframe tbody tr th {\n",
              "        vertical-align: top;\n",
              "    }\n",
              "\n",
              "    .dataframe thead th {\n",
              "        text-align: right;\n",
              "    }\n",
              "</style>\n",
              "<table border=\"1\" class=\"dataframe\">\n",
              "  <thead>\n",
              "    <tr style=\"text-align: right;\">\n",
              "      <th></th>\n",
              "      <th>0</th>\n",
              "      <th>1</th>\n",
              "      <th>2</th>\n",
              "      <th>3</th>\n",
              "      <th>4</th>\n",
              "      <th>5</th>\n",
              "      <th>6</th>\n",
              "      <th>7</th>\n",
              "      <th>8</th>\n",
              "      <th>9</th>\n",
              "      <th>10</th>\n",
              "      <th>11</th>\n",
              "      <th>12</th>\n",
              "      <th>13</th>\n",
              "      <th>14</th>\n",
              "      <th>15</th>\n",
              "      <th>16</th>\n",
              "      <th>17</th>\n",
              "      <th>18</th>\n",
              "      <th>19</th>\n",
              "      <th>20</th>\n",
              "      <th>21</th>\n",
              "    </tr>\n",
              "  </thead>\n",
              "  <tbody>\n",
              "    <tr>\n",
              "      <th>0</th>\n",
              "      <td>1.0</td>\n",
              "      <td>0.869293</td>\n",
              "      <td>-0.635082</td>\n",
              "      <td>0.225690</td>\n",
              "      <td>0.327470</td>\n",
              "      <td>-0.689993</td>\n",
              "      <td>0.754202</td>\n",
              "      <td>-0.248573</td>\n",
              "      <td>-1.092064</td>\n",
              "      <td>0.000000</td>\n",
              "      <td>1.374992</td>\n",
              "      <td>-0.653674</td>\n",
              "      <td>0.930349</td>\n",
              "      <td>1.107436</td>\n",
              "      <td>1.138904</td>\n",
              "      <td>-1.578198</td>\n",
              "      <td>-1.046985</td>\n",
              "      <td>0.000000</td>\n",
              "      <td>0.657930</td>\n",
              "      <td>-0.010455</td>\n",
              "      <td>-0.045767</td>\n",
              "      <td>3.101961</td>\n",
              "    </tr>\n",
              "    <tr>\n",
              "      <th>1</th>\n",
              "      <td>1.0</td>\n",
              "      <td>0.907542</td>\n",
              "      <td>0.329147</td>\n",
              "      <td>0.359412</td>\n",
              "      <td>1.497970</td>\n",
              "      <td>-0.313010</td>\n",
              "      <td>1.095531</td>\n",
              "      <td>-0.557525</td>\n",
              "      <td>-1.588230</td>\n",
              "      <td>2.173076</td>\n",
              "      <td>0.812581</td>\n",
              "      <td>-0.213642</td>\n",
              "      <td>1.271015</td>\n",
              "      <td>2.214872</td>\n",
              "      <td>0.499994</td>\n",
              "      <td>-1.261432</td>\n",
              "      <td>0.732156</td>\n",
              "      <td>0.000000</td>\n",
              "      <td>0.398701</td>\n",
              "      <td>-1.138930</td>\n",
              "      <td>-0.000819</td>\n",
              "      <td>0.000000</td>\n",
              "    </tr>\n",
              "    <tr>\n",
              "      <th>2</th>\n",
              "      <td>1.0</td>\n",
              "      <td>0.798835</td>\n",
              "      <td>1.470639</td>\n",
              "      <td>-1.635975</td>\n",
              "      <td>0.453773</td>\n",
              "      <td>0.425629</td>\n",
              "      <td>1.104875</td>\n",
              "      <td>1.282322</td>\n",
              "      <td>1.381664</td>\n",
              "      <td>0.000000</td>\n",
              "      <td>0.851737</td>\n",
              "      <td>1.540659</td>\n",
              "      <td>-0.819690</td>\n",
              "      <td>2.214872</td>\n",
              "      <td>0.993490</td>\n",
              "      <td>0.356080</td>\n",
              "      <td>-0.208778</td>\n",
              "      <td>2.548224</td>\n",
              "      <td>1.256955</td>\n",
              "      <td>1.128848</td>\n",
              "      <td>0.900461</td>\n",
              "      <td>0.000000</td>\n",
              "    </tr>\n",
              "    <tr>\n",
              "      <th>3</th>\n",
              "      <td>0.0</td>\n",
              "      <td>1.344385</td>\n",
              "      <td>-0.876626</td>\n",
              "      <td>0.935913</td>\n",
              "      <td>1.992050</td>\n",
              "      <td>0.882454</td>\n",
              "      <td>1.786066</td>\n",
              "      <td>-1.646778</td>\n",
              "      <td>-0.942383</td>\n",
              "      <td>0.000000</td>\n",
              "      <td>2.423265</td>\n",
              "      <td>-0.676016</td>\n",
              "      <td>0.736159</td>\n",
              "      <td>2.214872</td>\n",
              "      <td>1.298720</td>\n",
              "      <td>-1.430738</td>\n",
              "      <td>-0.364658</td>\n",
              "      <td>0.000000</td>\n",
              "      <td>0.745313</td>\n",
              "      <td>-0.678379</td>\n",
              "      <td>-1.360356</td>\n",
              "      <td>0.000000</td>\n",
              "    </tr>\n",
              "    <tr>\n",
              "      <th>4</th>\n",
              "      <td>1.0</td>\n",
              "      <td>1.105009</td>\n",
              "      <td>0.321356</td>\n",
              "      <td>1.522401</td>\n",
              "      <td>0.882808</td>\n",
              "      <td>-1.205349</td>\n",
              "      <td>0.681466</td>\n",
              "      <td>-1.070464</td>\n",
              "      <td>-0.921871</td>\n",
              "      <td>0.000000</td>\n",
              "      <td>0.800872</td>\n",
              "      <td>1.020974</td>\n",
              "      <td>0.971407</td>\n",
              "      <td>2.214872</td>\n",
              "      <td>0.596761</td>\n",
              "      <td>-0.350273</td>\n",
              "      <td>0.631194</td>\n",
              "      <td>0.000000</td>\n",
              "      <td>0.479999</td>\n",
              "      <td>-0.373566</td>\n",
              "      <td>0.113041</td>\n",
              "      <td>0.000000</td>\n",
              "    </tr>\n",
              "  </tbody>\n",
              "</table>\n",
              "</div>"
            ],
            "text/plain": [
              "    0         1         2         3   ...        18        19        20        21\n",
              "0  1.0  0.869293 -0.635082  0.225690  ...  0.657930 -0.010455 -0.045767  3.101961\n",
              "1  1.0  0.907542  0.329147  0.359412  ...  0.398701 -1.138930 -0.000819  0.000000\n",
              "2  1.0  0.798835  1.470639 -1.635975  ...  1.256955  1.128848  0.900461  0.000000\n",
              "3  0.0  1.344385 -0.876626  0.935913  ...  0.745313 -0.678379 -1.360356  0.000000\n",
              "4  1.0  1.105009  0.321356  1.522401  ...  0.479999 -0.373566  0.113041  0.000000\n",
              "\n",
              "[5 rows x 22 columns]"
            ]
          },
          "metadata": {
            "tags": []
          },
          "execution_count": 11
        }
      ]
    },
    {
      "cell_type": "markdown",
      "metadata": {
        "id": "aWUnkiNXXQzu"
      },
      "source": [
        "Rename columns to be more descriptive. More details can be found from the original article."
      ]
    },
    {
      "cell_type": "code",
      "metadata": {
        "id": "i26BMMjIXQzv"
      },
      "source": [
        "dataset.columns = ['class label', 'lepton pT', 'lepton eta', 'lepton phi', \n",
        "                   'missing energy magnitude', 'missing energy phi',\n",
        "                   'jet 1 pt', 'jet 1 eta', 'jet 1 phi', 'jet 1 b-tag', \n",
        "                   'jet 2 pt', 'jet 2 eta', 'jet 2 phi', 'jet 2 b-tag', \n",
        "                   'jet 3 pt', 'jet 3 eta', 'jet 3 phi', 'jet 3 b-tag', \n",
        "                   'jet 4 pt', 'jet 4 eta', 'jet 4 phi', 'jet 4 b-tag']"
      ],
      "execution_count": 12,
      "outputs": []
    },
    {
      "cell_type": "markdown",
      "metadata": {
        "id": "chhKeYHdXQzz"
      },
      "source": [
        "Print summary of the dataset. "
      ]
    },
    {
      "cell_type": "code",
      "metadata": {
        "id": "UtnAQCdaXQz2",
        "colab": {
          "base_uri": "https://localhost:8080/",
          "height": 355
        },
        "outputId": "e684238a-101d-4cec-bcec-bcdc4ce880e6"
      },
      "source": [
        "dataset.describe()"
      ],
      "execution_count": 13,
      "outputs": [
        {
          "output_type": "execute_result",
          "data": {
            "text/html": [
              "<div>\n",
              "<style scoped>\n",
              "    .dataframe tbody tr th:only-of-type {\n",
              "        vertical-align: middle;\n",
              "    }\n",
              "\n",
              "    .dataframe tbody tr th {\n",
              "        vertical-align: top;\n",
              "    }\n",
              "\n",
              "    .dataframe thead th {\n",
              "        text-align: right;\n",
              "    }\n",
              "</style>\n",
              "<table border=\"1\" class=\"dataframe\">\n",
              "  <thead>\n",
              "    <tr style=\"text-align: right;\">\n",
              "      <th></th>\n",
              "      <th>class label</th>\n",
              "      <th>lepton pT</th>\n",
              "      <th>lepton eta</th>\n",
              "      <th>lepton phi</th>\n",
              "      <th>missing energy magnitude</th>\n",
              "      <th>missing energy phi</th>\n",
              "      <th>jet 1 pt</th>\n",
              "      <th>jet 1 eta</th>\n",
              "      <th>jet 1 phi</th>\n",
              "      <th>jet 1 b-tag</th>\n",
              "      <th>jet 2 pt</th>\n",
              "      <th>jet 2 eta</th>\n",
              "      <th>jet 2 phi</th>\n",
              "      <th>jet 2 b-tag</th>\n",
              "      <th>jet 3 pt</th>\n",
              "      <th>jet 3 eta</th>\n",
              "      <th>jet 3 phi</th>\n",
              "      <th>jet 3 b-tag</th>\n",
              "      <th>jet 4 pt</th>\n",
              "      <th>jet 4 eta</th>\n",
              "      <th>jet 4 phi</th>\n",
              "      <th>jet 4 b-tag</th>\n",
              "    </tr>\n",
              "  </thead>\n",
              "  <tbody>\n",
              "    <tr>\n",
              "      <th>count</th>\n",
              "      <td>2.500000e+06</td>\n",
              "      <td>2.500000e+06</td>\n",
              "      <td>2.500000e+06</td>\n",
              "      <td>2.500000e+06</td>\n",
              "      <td>2.500000e+06</td>\n",
              "      <td>2.500000e+06</td>\n",
              "      <td>2.500000e+06</td>\n",
              "      <td>2.500000e+06</td>\n",
              "      <td>2.500000e+06</td>\n",
              "      <td>2.500000e+06</td>\n",
              "      <td>2.500000e+06</td>\n",
              "      <td>2.500000e+06</td>\n",
              "      <td>2.500000e+06</td>\n",
              "      <td>2.500000e+06</td>\n",
              "      <td>2.500000e+06</td>\n",
              "      <td>2.500000e+06</td>\n",
              "      <td>2.500000e+06</td>\n",
              "      <td>2.500000e+06</td>\n",
              "      <td>2.500000e+06</td>\n",
              "      <td>2.500000e+06</td>\n",
              "      <td>2.500000e+06</td>\n",
              "      <td>2.500000e+06</td>\n",
              "    </tr>\n",
              "    <tr>\n",
              "      <th>mean</th>\n",
              "      <td>5.295332e-01</td>\n",
              "      <td>9.909514e-01</td>\n",
              "      <td>1.955417e-04</td>\n",
              "      <td>-3.169489e-05</td>\n",
              "      <td>9.983776e-01</td>\n",
              "      <td>-6.830571e-04</td>\n",
              "      <td>9.905267e-01</td>\n",
              "      <td>-5.209604e-04</td>\n",
              "      <td>3.227783e-04</td>\n",
              "      <td>1.001191e+00</td>\n",
              "      <td>9.925799e-01</td>\n",
              "      <td>1.100517e-03</td>\n",
              "      <td>5.171682e-04</td>\n",
              "      <td>9.992227e-01</td>\n",
              "      <td>9.920353e-01</td>\n",
              "      <td>8.544650e-04</td>\n",
              "      <td>1.823075e-04</td>\n",
              "      <td>1.000605e+00</td>\n",
              "      <td>9.858104e-01</td>\n",
              "      <td>-2.411817e-04</td>\n",
              "      <td>-1.268937e-04</td>\n",
              "      <td>9.988123e-01</td>\n",
              "    </tr>\n",
              "    <tr>\n",
              "      <th>std</th>\n",
              "      <td>4.991271e-01</td>\n",
              "      <td>5.648552e-01</td>\n",
              "      <td>1.008700e+00</td>\n",
              "      <td>1.006230e+00</td>\n",
              "      <td>5.997689e-01</td>\n",
              "      <td>1.006398e+00</td>\n",
              "      <td>4.743167e-01</td>\n",
              "      <td>1.009432e+00</td>\n",
              "      <td>1.006093e+00</td>\n",
              "      <td>1.027907e+00</td>\n",
              "      <td>5.001791e-01</td>\n",
              "      <td>1.009579e+00</td>\n",
              "      <td>1.006245e+00</td>\n",
              "      <td>1.049261e+00</td>\n",
              "      <td>4.870261e-01</td>\n",
              "      <td>1.008089e+00</td>\n",
              "      <td>1.006146e+00</td>\n",
              "      <td>1.193923e+00</td>\n",
              "      <td>5.056916e-01</td>\n",
              "      <td>1.007806e+00</td>\n",
              "      <td>1.006446e+00</td>\n",
              "      <td>1.399678e+00</td>\n",
              "    </tr>\n",
              "    <tr>\n",
              "      <th>min</th>\n",
              "      <td>0.000000e+00</td>\n",
              "      <td>2.746966e-01</td>\n",
              "      <td>-2.434976e+00</td>\n",
              "      <td>-1.742508e+00</td>\n",
              "      <td>6.259872e-04</td>\n",
              "      <td>-1.743944e+00</td>\n",
              "      <td>1.378689e-01</td>\n",
              "      <td>-2.969725e+00</td>\n",
              "      <td>-1.741237e+00</td>\n",
              "      <td>0.000000e+00</td>\n",
              "      <td>1.889811e-01</td>\n",
              "      <td>-2.913090e+00</td>\n",
              "      <td>-1.742372e+00</td>\n",
              "      <td>0.000000e+00</td>\n",
              "      <td>2.636076e-01</td>\n",
              "      <td>-2.729663e+00</td>\n",
              "      <td>-1.742069e+00</td>\n",
              "      <td>0.000000e+00</td>\n",
              "      <td>3.653542e-01</td>\n",
              "      <td>-2.497265e+00</td>\n",
              "      <td>-1.742691e+00</td>\n",
              "      <td>0.000000e+00</td>\n",
              "    </tr>\n",
              "    <tr>\n",
              "      <th>25%</th>\n",
              "      <td>0.000000e+00</td>\n",
              "      <td>5.902043e-01</td>\n",
              "      <td>-7.383225e-01</td>\n",
              "      <td>-8.719308e-01</td>\n",
              "      <td>5.766077e-01</td>\n",
              "      <td>-8.714912e-01</td>\n",
              "      <td>6.791759e-01</td>\n",
              "      <td>-6.872450e-01</td>\n",
              "      <td>-8.675418e-01</td>\n",
              "      <td>0.000000e+00</td>\n",
              "      <td>6.565868e-01</td>\n",
              "      <td>-6.944718e-01</td>\n",
              "      <td>-8.690695e-01</td>\n",
              "      <td>0.000000e+00</td>\n",
              "      <td>6.506770e-01</td>\n",
              "      <td>-6.979879e-01</td>\n",
              "      <td>-8.711343e-01</td>\n",
              "      <td>0.000000e+00</td>\n",
              "      <td>6.170371e-01</td>\n",
              "      <td>-7.141902e-01</td>\n",
              "      <td>-8.720338e-01</td>\n",
              "      <td>0.000000e+00</td>\n",
              "    </tr>\n",
              "    <tr>\n",
              "      <th>50%</th>\n",
              "      <td>1.000000e+00</td>\n",
              "      <td>8.530054e-01</td>\n",
              "      <td>9.198132e-04</td>\n",
              "      <td>9.714414e-04</td>\n",
              "      <td>8.914129e-01</td>\n",
              "      <td>-1.253696e-03</td>\n",
              "      <td>8.943613e-01</td>\n",
              "      <td>-1.015666e-03</td>\n",
              "      <td>5.813991e-05</td>\n",
              "      <td>1.086538e+00</td>\n",
              "      <td>8.900118e-01</td>\n",
              "      <td>1.031646e-03</td>\n",
              "      <td>1.009147e-03</td>\n",
              "      <td>0.000000e+00</td>\n",
              "      <td>8.972494e-01</td>\n",
              "      <td>1.083142e-03</td>\n",
              "      <td>-1.972152e-04</td>\n",
              "      <td>0.000000e+00</td>\n",
              "      <td>8.677465e-01</td>\n",
              "      <td>-4.606903e-04</td>\n",
              "      <td>-8.191102e-04</td>\n",
              "      <td>0.000000e+00</td>\n",
              "    </tr>\n",
              "    <tr>\n",
              "      <th>75%</th>\n",
              "      <td>1.000000e+00</td>\n",
              "      <td>1.235860e+00</td>\n",
              "      <td>7.382142e-01</td>\n",
              "      <td>8.709940e-01</td>\n",
              "      <td>1.292830e+00</td>\n",
              "      <td>8.710670e-01</td>\n",
              "      <td>1.170557e+00</td>\n",
              "      <td>6.871941e-01</td>\n",
              "      <td>8.688670e-01</td>\n",
              "      <td>2.173076e+00</td>\n",
              "      <td>1.201623e+00</td>\n",
              "      <td>6.965352e-01</td>\n",
              "      <td>8.704274e-01</td>\n",
              "      <td>2.214872e+00</td>\n",
              "      <td>1.221622e+00</td>\n",
              "      <td>7.001541e-01</td>\n",
              "      <td>8.713947e-01</td>\n",
              "      <td>2.548224e+00</td>\n",
              "      <td>1.221174e+00</td>\n",
              "      <td>7.141017e-01</td>\n",
              "      <td>8.716055e-01</td>\n",
              "      <td>3.101961e+00</td>\n",
              "    </tr>\n",
              "    <tr>\n",
              "      <th>max</th>\n",
              "      <td>1.000000e+00</td>\n",
              "      <td>9.690881e+00</td>\n",
              "      <td>2.434868e+00</td>\n",
              "      <td>1.743236e+00</td>\n",
              "      <td>1.539682e+01</td>\n",
              "      <td>1.743257e+00</td>\n",
              "      <td>8.848616e+00</td>\n",
              "      <td>2.969674e+00</td>\n",
              "      <td>1.741454e+00</td>\n",
              "      <td>2.173076e+00</td>\n",
              "      <td>1.164708e+01</td>\n",
              "      <td>2.913210e+00</td>\n",
              "      <td>1.743175e+00</td>\n",
              "      <td>2.214872e+00</td>\n",
              "      <td>8.864838e+00</td>\n",
              "      <td>2.730009e+00</td>\n",
              "      <td>1.742884e+00</td>\n",
              "      <td>2.548224e+00</td>\n",
              "      <td>1.162123e+01</td>\n",
              "      <td>2.498009e+00</td>\n",
              "      <td>1.743372e+00</td>\n",
              "      <td>3.101961e+00</td>\n",
              "    </tr>\n",
              "  </tbody>\n",
              "</table>\n",
              "</div>"
            ],
            "text/plain": [
              "        class label     lepton pT  ...     jet 4 phi   jet 4 b-tag\n",
              "count  2.500000e+06  2.500000e+06  ...  2.500000e+06  2.500000e+06\n",
              "mean   5.295332e-01  9.909514e-01  ... -1.268937e-04  9.988123e-01\n",
              "std    4.991271e-01  5.648552e-01  ...  1.006446e+00  1.399678e+00\n",
              "min    0.000000e+00  2.746966e-01  ... -1.742691e+00  0.000000e+00\n",
              "25%    0.000000e+00  5.902043e-01  ... -8.720338e-01  0.000000e+00\n",
              "50%    1.000000e+00  8.530054e-01  ... -8.191102e-04  0.000000e+00\n",
              "75%    1.000000e+00  1.235860e+00  ...  8.716055e-01  3.101961e+00\n",
              "max    1.000000e+00  9.690881e+00  ...  1.743372e+00  3.101961e+00\n",
              "\n",
              "[8 rows x 22 columns]"
            ]
          },
          "metadata": {
            "tags": []
          },
          "execution_count": 13
        }
      ]
    },
    {
      "cell_type": "markdown",
      "metadata": {
        "id": "p3MRXhJ-XQz5"
      },
      "source": [
        "###  Separate input and output variables \n",
        "\n",
        "Split dataset into input (X) and output (y) variables. Trivially, class label is the output variable."
      ]
    },
    {
      "cell_type": "code",
      "metadata": {
        "id": "jiV9mxs2XQz8",
        "colab": {
          "base_uri": "https://localhost:8080/",
          "height": 261
        },
        "outputId": "73d21c73-edbc-4f41-b349-a0b82a9b4862"
      },
      "source": [
        "X = dataset.iloc[:,1:23]\n",
        "y = dataset.iloc[:,0] \n",
        "X.head()"
      ],
      "execution_count": 14,
      "outputs": [
        {
          "output_type": "execute_result",
          "data": {
            "text/html": [
              "<div>\n",
              "<style scoped>\n",
              "    .dataframe tbody tr th:only-of-type {\n",
              "        vertical-align: middle;\n",
              "    }\n",
              "\n",
              "    .dataframe tbody tr th {\n",
              "        vertical-align: top;\n",
              "    }\n",
              "\n",
              "    .dataframe thead th {\n",
              "        text-align: right;\n",
              "    }\n",
              "</style>\n",
              "<table border=\"1\" class=\"dataframe\">\n",
              "  <thead>\n",
              "    <tr style=\"text-align: right;\">\n",
              "      <th></th>\n",
              "      <th>lepton pT</th>\n",
              "      <th>lepton eta</th>\n",
              "      <th>lepton phi</th>\n",
              "      <th>missing energy magnitude</th>\n",
              "      <th>missing energy phi</th>\n",
              "      <th>jet 1 pt</th>\n",
              "      <th>jet 1 eta</th>\n",
              "      <th>jet 1 phi</th>\n",
              "      <th>jet 1 b-tag</th>\n",
              "      <th>jet 2 pt</th>\n",
              "      <th>jet 2 eta</th>\n",
              "      <th>jet 2 phi</th>\n",
              "      <th>jet 2 b-tag</th>\n",
              "      <th>jet 3 pt</th>\n",
              "      <th>jet 3 eta</th>\n",
              "      <th>jet 3 phi</th>\n",
              "      <th>jet 3 b-tag</th>\n",
              "      <th>jet 4 pt</th>\n",
              "      <th>jet 4 eta</th>\n",
              "      <th>jet 4 phi</th>\n",
              "      <th>jet 4 b-tag</th>\n",
              "    </tr>\n",
              "  </thead>\n",
              "  <tbody>\n",
              "    <tr>\n",
              "      <th>0</th>\n",
              "      <td>0.869293</td>\n",
              "      <td>-0.635082</td>\n",
              "      <td>0.225690</td>\n",
              "      <td>0.327470</td>\n",
              "      <td>-0.689993</td>\n",
              "      <td>0.754202</td>\n",
              "      <td>-0.248573</td>\n",
              "      <td>-1.092064</td>\n",
              "      <td>0.000000</td>\n",
              "      <td>1.374992</td>\n",
              "      <td>-0.653674</td>\n",
              "      <td>0.930349</td>\n",
              "      <td>1.107436</td>\n",
              "      <td>1.138904</td>\n",
              "      <td>-1.578198</td>\n",
              "      <td>-1.046985</td>\n",
              "      <td>0.000000</td>\n",
              "      <td>0.657930</td>\n",
              "      <td>-0.010455</td>\n",
              "      <td>-0.045767</td>\n",
              "      <td>3.101961</td>\n",
              "    </tr>\n",
              "    <tr>\n",
              "      <th>1</th>\n",
              "      <td>0.907542</td>\n",
              "      <td>0.329147</td>\n",
              "      <td>0.359412</td>\n",
              "      <td>1.497970</td>\n",
              "      <td>-0.313010</td>\n",
              "      <td>1.095531</td>\n",
              "      <td>-0.557525</td>\n",
              "      <td>-1.588230</td>\n",
              "      <td>2.173076</td>\n",
              "      <td>0.812581</td>\n",
              "      <td>-0.213642</td>\n",
              "      <td>1.271015</td>\n",
              "      <td>2.214872</td>\n",
              "      <td>0.499994</td>\n",
              "      <td>-1.261432</td>\n",
              "      <td>0.732156</td>\n",
              "      <td>0.000000</td>\n",
              "      <td>0.398701</td>\n",
              "      <td>-1.138930</td>\n",
              "      <td>-0.000819</td>\n",
              "      <td>0.000000</td>\n",
              "    </tr>\n",
              "    <tr>\n",
              "      <th>2</th>\n",
              "      <td>0.798835</td>\n",
              "      <td>1.470639</td>\n",
              "      <td>-1.635975</td>\n",
              "      <td>0.453773</td>\n",
              "      <td>0.425629</td>\n",
              "      <td>1.104875</td>\n",
              "      <td>1.282322</td>\n",
              "      <td>1.381664</td>\n",
              "      <td>0.000000</td>\n",
              "      <td>0.851737</td>\n",
              "      <td>1.540659</td>\n",
              "      <td>-0.819690</td>\n",
              "      <td>2.214872</td>\n",
              "      <td>0.993490</td>\n",
              "      <td>0.356080</td>\n",
              "      <td>-0.208778</td>\n",
              "      <td>2.548224</td>\n",
              "      <td>1.256955</td>\n",
              "      <td>1.128848</td>\n",
              "      <td>0.900461</td>\n",
              "      <td>0.000000</td>\n",
              "    </tr>\n",
              "    <tr>\n",
              "      <th>3</th>\n",
              "      <td>1.344385</td>\n",
              "      <td>-0.876626</td>\n",
              "      <td>0.935913</td>\n",
              "      <td>1.992050</td>\n",
              "      <td>0.882454</td>\n",
              "      <td>1.786066</td>\n",
              "      <td>-1.646778</td>\n",
              "      <td>-0.942383</td>\n",
              "      <td>0.000000</td>\n",
              "      <td>2.423265</td>\n",
              "      <td>-0.676016</td>\n",
              "      <td>0.736159</td>\n",
              "      <td>2.214872</td>\n",
              "      <td>1.298720</td>\n",
              "      <td>-1.430738</td>\n",
              "      <td>-0.364658</td>\n",
              "      <td>0.000000</td>\n",
              "      <td>0.745313</td>\n",
              "      <td>-0.678379</td>\n",
              "      <td>-1.360356</td>\n",
              "      <td>0.000000</td>\n",
              "    </tr>\n",
              "    <tr>\n",
              "      <th>4</th>\n",
              "      <td>1.105009</td>\n",
              "      <td>0.321356</td>\n",
              "      <td>1.522401</td>\n",
              "      <td>0.882808</td>\n",
              "      <td>-1.205349</td>\n",
              "      <td>0.681466</td>\n",
              "      <td>-1.070464</td>\n",
              "      <td>-0.921871</td>\n",
              "      <td>0.000000</td>\n",
              "      <td>0.800872</td>\n",
              "      <td>1.020974</td>\n",
              "      <td>0.971407</td>\n",
              "      <td>2.214872</td>\n",
              "      <td>0.596761</td>\n",
              "      <td>-0.350273</td>\n",
              "      <td>0.631194</td>\n",
              "      <td>0.000000</td>\n",
              "      <td>0.479999</td>\n",
              "      <td>-0.373566</td>\n",
              "      <td>0.113041</td>\n",
              "      <td>0.000000</td>\n",
              "    </tr>\n",
              "  </tbody>\n",
              "</table>\n",
              "</div>"
            ],
            "text/plain": [
              "   lepton pT  lepton eta  lepton phi  ...  jet 4 eta  jet 4 phi  jet 4 b-tag\n",
              "0   0.869293   -0.635082    0.225690  ...  -0.010455  -0.045767     3.101961\n",
              "1   0.907542    0.329147    0.359412  ...  -1.138930  -0.000819     0.000000\n",
              "2   0.798835    1.470639   -1.635975  ...   1.128848   0.900461     0.000000\n",
              "3   1.344385   -0.876626    0.935913  ...  -0.678379  -1.360356     0.000000\n",
              "4   1.105009    0.321356    1.522401  ...  -0.373566   0.113041     0.000000\n",
              "\n",
              "[5 rows x 21 columns]"
            ]
          },
          "metadata": {
            "tags": []
          },
          "execution_count": 14
        }
      ]
    },
    {
      "cell_type": "markdown",
      "metadata": {
        "id": "h6r3ZLy5XQz8"
      },
      "source": [
        "### Define neural network architecture \n",
        "\n",
        "Define constants for NN architecture. "
      ]
    },
    {
      "cell_type": "code",
      "metadata": {
        "id": "VJqUwqr4XQz8"
      },
      "source": [
        "noInputUnits = X.shape[1]\n",
        "noHiddenUnits = 300\n",
        "learningRate = 0.05\n",
        "learningRateDecay = 1.0000002\n",
        "learningRateMin = 1e-6\n",
        "weightDecay = 1e-5\n",
        "batchSize = 100\n",
        "noEpochs = 20\n",
        "validationSplit = 0.3\n",
        "#TODO TODO#\n",
        "#weight initialization "
      ],
      "execution_count": 15,
      "outputs": []
    },
    {
      "cell_type": "markdown",
      "metadata": {
        "id": "rT9EaMfgXQz-"
      },
      "source": [
        "Define the neural network. "
      ]
    },
    {
      "cell_type": "code",
      "metadata": {
        "id": "Efq8PHNGXQz-",
        "colab": {
          "base_uri": "https://localhost:8080/"
        },
        "outputId": "1ae93f14-371f-481a-e293-89d61e432dcd"
      },
      "source": [
        "model = Sequential()\n",
        "model.add(Dense(noHiddenUnits, input_dim=noInputUnits, activation='tanh'))\n",
        "model.add(Dense(noHiddenUnits, activation='tanh'))\n",
        "model.add(Dense(noHiddenUnits, activation='tanh'))\n",
        "model.add(Dense(1, activation='sigmoid'))\n",
        "model.summary()"
      ],
      "execution_count": 16,
      "outputs": [
        {
          "output_type": "stream",
          "text": [
            "Model: \"sequential_1\"\n",
            "_________________________________________________________________\n",
            "Layer (type)                 Output Shape              Param #   \n",
            "=================================================================\n",
            "dense_3 (Dense)              (None, 300)               6600      \n",
            "_________________________________________________________________\n",
            "dense_4 (Dense)              (None, 300)               90300     \n",
            "_________________________________________________________________\n",
            "dense_5 (Dense)              (None, 300)               90300     \n",
            "_________________________________________________________________\n",
            "dense_6 (Dense)              (None, 1)                 301       \n",
            "=================================================================\n",
            "Total params: 187,501\n",
            "Trainable params: 187,501\n",
            "Non-trainable params: 0\n",
            "_________________________________________________________________\n"
          ],
          "name": "stdout"
        }
      ]
    },
    {
      "cell_type": "markdown",
      "metadata": {
        "id": "r58rfRxqXQz_"
      },
      "source": [
        "Compile the keras NN model."
      ]
    },
    {
      "cell_type": "code",
      "metadata": {
        "id": "i-NsLj_XXQz_"
      },
      "source": [
        "model.compile(loss='binary_crossentropy', \n",
        "              optimizer='adam', \n",
        "              metrics=['accuracy'])"
      ],
      "execution_count": 17,
      "outputs": []
    },
    {
      "cell_type": "markdown",
      "metadata": {
        "id": "FCKykp72XQ0A"
      },
      "source": [
        "### Train neural network \n",
        "\n",
        "Fit the keras NN model on the dataset."
      ]
    },
    {
      "cell_type": "code",
      "metadata": {
        "scrolled": true,
        "id": "vec8nlRqXQ0B",
        "colab": {
          "base_uri": "https://localhost:8080/"
        },
        "outputId": "ec69b6aa-f511-4a49-e58f-e12e1202ae44"
      },
      "source": [
        "fittedModel = model.fit(X, y, \n",
        "                    validation_split = validationSplit,\n",
        "                    epochs = noEpochs, \n",
        "                    batch_size = batchSize)"
      ],
      "execution_count": 18,
      "outputs": [
        {
          "output_type": "stream",
          "text": [
            "Epoch 1/20\n",
            "17500/17500 [==============================] - 100s 6ms/step - loss: 0.6419 - accuracy: 0.6239 - val_loss: 0.6032 - val_accuracy: 0.6703\n",
            "Epoch 2/20\n",
            "17500/17500 [==============================] - 103s 6ms/step - loss: 0.6000 - accuracy: 0.6740 - val_loss: 0.5961 - val_accuracy: 0.6779\n",
            "Epoch 3/20\n",
            "17500/17500 [==============================] - 99s 6ms/step - loss: 0.5908 - accuracy: 0.6826 - val_loss: 0.5880 - val_accuracy: 0.6854\n",
            "Epoch 4/20\n",
            "17500/17500 [==============================] - 100s 6ms/step - loss: 0.5857 - accuracy: 0.6876 - val_loss: 0.5836 - val_accuracy: 0.6886\n",
            "Epoch 5/20\n",
            "17500/17500 [==============================] - 100s 6ms/step - loss: 0.5813 - accuracy: 0.6915 - val_loss: 0.5815 - val_accuracy: 0.6914\n",
            "Epoch 6/20\n",
            "17500/17500 [==============================] - 100s 6ms/step - loss: 0.5787 - accuracy: 0.6934 - val_loss: 0.5792 - val_accuracy: 0.6943\n",
            "Epoch 7/20\n",
            "17500/17500 [==============================] - 100s 6ms/step - loss: 0.5744 - accuracy: 0.6981 - val_loss: 0.5782 - val_accuracy: 0.6952\n",
            "Epoch 8/20\n",
            "17500/17500 [==============================] - 102s 6ms/step - loss: 0.5702 - accuracy: 0.7019 - val_loss: 0.5701 - val_accuracy: 0.7014\n",
            "Epoch 9/20\n",
            "17500/17500 [==============================] - 101s 6ms/step - loss: 0.5651 - accuracy: 0.7058 - val_loss: 0.5674 - val_accuracy: 0.7041\n",
            "Epoch 10/20\n",
            "17500/17500 [==============================] - 101s 6ms/step - loss: 0.5625 - accuracy: 0.7080 - val_loss: 0.5658 - val_accuracy: 0.7062\n",
            "Epoch 11/20\n",
            "17500/17500 [==============================] - 100s 6ms/step - loss: 0.5597 - accuracy: 0.7103 - val_loss: 0.5627 - val_accuracy: 0.7077\n",
            "Epoch 12/20\n",
            "17500/17500 [==============================] - 100s 6ms/step - loss: 0.5571 - accuracy: 0.7130 - val_loss: 0.5601 - val_accuracy: 0.7106\n",
            "Epoch 13/20\n",
            "17500/17500 [==============================] - 100s 6ms/step - loss: 0.5549 - accuracy: 0.7141 - val_loss: 0.5606 - val_accuracy: 0.7106\n",
            "Epoch 14/20\n",
            "17500/17500 [==============================] - 102s 6ms/step - loss: 0.5535 - accuracy: 0.7152 - val_loss: 0.5601 - val_accuracy: 0.7103\n",
            "Epoch 15/20\n",
            "17500/17500 [==============================] - 100s 6ms/step - loss: 0.5510 - accuracy: 0.7173 - val_loss: 0.5582 - val_accuracy: 0.7117\n",
            "Epoch 16/20\n",
            "17500/17500 [==============================] - 99s 6ms/step - loss: 0.5493 - accuracy: 0.7188 - val_loss: 0.5554 - val_accuracy: 0.7142\n",
            "Epoch 17/20\n",
            "17500/17500 [==============================] - 99s 6ms/step - loss: 0.5476 - accuracy: 0.7198 - val_loss: 0.5526 - val_accuracy: 0.7168\n",
            "Epoch 18/20\n",
            "17500/17500 [==============================] - 101s 6ms/step - loss: 0.5466 - accuracy: 0.7211 - val_loss: 0.5523 - val_accuracy: 0.7168\n",
            "Epoch 19/20\n",
            "17500/17500 [==============================] - 100s 6ms/step - loss: 0.5448 - accuracy: 0.7229 - val_loss: 0.5535 - val_accuracy: 0.7153\n",
            "Epoch 20/20\n",
            "17500/17500 [==============================] - 102s 6ms/step - loss: 0.5446 - accuracy: 0.7219 - val_loss: 0.5542 - val_accuracy: 0.7160\n"
          ],
          "name": "stdout"
        }
      ]
    },
    {
      "cell_type": "markdown",
      "metadata": {
        "id": "pxhyerJ1XQ0C"
      },
      "source": [
        "### Evaluate neural network \n",
        "\n",
        "Evaluate the keras NN model. "
      ]
    },
    {
      "cell_type": "code",
      "metadata": {
        "id": "tbKn74zSXQ0D",
        "colab": {
          "base_uri": "https://localhost:8080/"
        },
        "outputId": "644baee1-ecd5-4061-d9b7-4321a28d5d6b"
      },
      "source": [
        "X_ = X.head(10000)\n",
        "y_ = y.head(10000)\n",
        "_, accuracy = model.evaluate(X.head(10000), y.head(10000))\n",
        "print('Accuracy: %.2f' % (accuracy*100))"
      ],
      "execution_count": 19,
      "outputs": [
        {
          "output_type": "stream",
          "text": [
            "313/313 [==============================] - 1s 2ms/step - loss: 0.5359 - accuracy: 0.7321\n",
            "Accuracy: 73.21\n"
          ],
          "name": "stdout"
        }
      ]
    },
    {
      "cell_type": "markdown",
      "metadata": {
        "id": "wMRbueEnXQ0F"
      },
      "source": [
        "Make class predictions with the NN model. "
      ]
    },
    {
      "cell_type": "code",
      "metadata": {
        "id": "hTkhKzChXQ0H",
        "colab": {
          "base_uri": "https://localhost:8080/"
        },
        "outputId": "9b475f17-331a-4190-f79f-a4ef9fd395c7"
      },
      "source": [
        "predictions = model.predict_classes(X_)"
      ],
      "execution_count": 20,
      "outputs": [
        {
          "output_type": "stream",
          "text": [
            "/usr/local/lib/python3.6/dist-packages/tensorflow/python/keras/engine/sequential.py:450: UserWarning: `model.predict_classes()` is deprecated and will be removed after 2021-01-01. Please use instead:* `np.argmax(model.predict(x), axis=-1)`,   if your model does multi-class classification   (e.g. if it uses a `softmax` last-layer activation).* `(model.predict(x) > 0.5).astype(\"int32\")`,   if your model does binary classification   (e.g. if it uses a `sigmoid` last-layer activation).\n",
            "  warnings.warn('`model.predict_classes()` is deprecated and '\n"
          ],
          "name": "stderr"
        }
      ]
    },
    {
      "cell_type": "markdown",
      "metadata": {
        "id": "XWIjBy6_XQ0L"
      },
      "source": [
        "Summarize the first cases. "
      ]
    },
    {
      "cell_type": "code",
      "metadata": {
        "id": "B22tG1_XXQ0M",
        "colab": {
          "base_uri": "https://localhost:8080/"
        },
        "outputId": "5699a3c3-bbb0-4cd1-8723-9f0fa6f7030f"
      },
      "source": [
        "for i in range(20):\n",
        "    print('Row %s => %d (expected %d)' % (i, predictions[i], y[i]))"
      ],
      "execution_count": 21,
      "outputs": [
        {
          "output_type": "stream",
          "text": [
            "Row 0 => 1 (expected 1)\n",
            "Row 1 => 1 (expected 1)\n",
            "Row 2 => 1 (expected 1)\n",
            "Row 3 => 0 (expected 0)\n",
            "Row 4 => 1 (expected 1)\n",
            "Row 5 => 0 (expected 0)\n",
            "Row 6 => 1 (expected 1)\n",
            "Row 7 => 1 (expected 1)\n",
            "Row 8 => 1 (expected 1)\n",
            "Row 9 => 1 (expected 1)\n",
            "Row 10 => 0 (expected 1)\n",
            "Row 11 => 0 (expected 0)\n",
            "Row 12 => 1 (expected 1)\n",
            "Row 13 => 1 (expected 1)\n",
            "Row 14 => 0 (expected 1)\n",
            "Row 15 => 0 (expected 0)\n",
            "Row 16 => 1 (expected 1)\n",
            "Row 17 => 0 (expected 0)\n",
            "Row 18 => 0 (expected 0)\n",
            "Row 19 => 1 (expected 1)\n"
          ],
          "name": "stdout"
        }
      ]
    },
    {
      "cell_type": "code",
      "metadata": {
        "id": "dALMwIU3XQ0M",
        "colab": {
          "base_uri": "https://localhost:8080/"
        },
        "outputId": "446a3b1b-2f49-49ec-ca5f-485d37315626"
      },
      "source": [
        "# list all data available during model fitting\n",
        "fittedModel.history.keys()"
      ],
      "execution_count": 22,
      "outputs": [
        {
          "output_type": "execute_result",
          "data": {
            "text/plain": [
              "dict_keys(['loss', 'accuracy', 'val_loss', 'val_accuracy'])"
            ]
          },
          "metadata": {
            "tags": []
          },
          "execution_count": 22
        }
      ]
    },
    {
      "cell_type": "markdown",
      "metadata": {
        "id": "wwaCv43pXQ0N"
      },
      "source": [
        "Plot accuracy behavior during epochs. The training and testing phases should not be too much different, otherwise the model is overfitted. "
      ]
    },
    {
      "cell_type": "code",
      "metadata": {
        "id": "KahM2ZZkXQ0O",
        "colab": {
          "base_uri": "https://localhost:8080/",
          "height": 295
        },
        "outputId": "9a3b7936-3df1-487d-93f9-295781dbee1c"
      },
      "source": [
        "plt.plot(fittedModel.history['accuracy'])\n",
        "plt.plot(fittedModel.history['val_accuracy'])\n",
        "plt.title('model accuracy')\n",
        "plt.ylabel('accuracy')\n",
        "plt.xlabel('epoch')\n",
        "plt.legend(['train', 'test'], loc='lower right')\n",
        "plt.show()"
      ],
      "execution_count": 23,
      "outputs": [
        {
          "output_type": "display_data",
          "data": {
            "image/png": "[encoded data removed]",
            "text/plain": [
              "<Figure size 432x288 with 1 Axes>"
            ]
          },
          "metadata": {
            "tags": [],
            "needs_background": "light"
          }
        }
      ]
    },
    {
      "cell_type": "markdown",
      "metadata": {
        "id": "oyhEXQJ7XQ0P"
      },
      "source": [
        "Plot loss behavior during epochs. "
      ]
    },
    {
      "cell_type": "code",
      "metadata": {
        "id": "XnnZ_j4cXQ0Q",
        "colab": {
          "base_uri": "https://localhost:8080/",
          "height": 295
        },
        "outputId": "e2c4e875-141f-40b6-ae52-5d1ffa0f00fe"
      },
      "source": [
        "plt.plot(fittedModel.history['loss'])\n",
        "plt.plot(fittedModel.history['val_loss'])\n",
        "plt.title('model loss')\n",
        "plt.ylabel('loss')\n",
        "plt.xlabel('epoch')\n",
        "plt.legend(['train', 'test'], loc='upper right')\n",
        "plt.show()"
      ],
      "execution_count": 24,
      "outputs": [
        {
          "output_type": "display_data",
          "data": {
            "image/png": "[encoded data removed]",
            "text/plain": [
              "<Figure size 432x288 with 1 Axes>"
            ]
          },
          "metadata": {
            "tags": [],
            "needs_background": "light"
          }
        }
      ]
    },
    {
      "cell_type": "code",
      "metadata": {
        "id": "5n0fIL1TXQ0S"
      },
      "source": [
        ""
      ],
      "execution_count": null,
      "outputs": []
    }
  ]
}